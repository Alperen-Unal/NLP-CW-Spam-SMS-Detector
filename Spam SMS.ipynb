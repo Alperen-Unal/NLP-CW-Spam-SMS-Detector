{
 "cells": [
  {
   "cell_type": "code",
   "execution_count": 1,
   "id": "a0f2d701",
   "metadata": {
    "scrolled": true
   },
   "outputs": [
    {
     "name": "stdout",
     "output_type": "stream",
     "text": [
      "Requirement already satisfied: nltk in /Users/alperenunal/anaconda3/lib/python3.11/site-packages (3.8.1)\n",
      "Requirement already satisfied: click in /Users/alperenunal/anaconda3/lib/python3.11/site-packages (from nltk) (8.0.4)\n",
      "Requirement already satisfied: joblib in /Users/alperenunal/anaconda3/lib/python3.11/site-packages (from nltk) (1.2.0)\n",
      "Requirement already satisfied: regex>=2021.8.3 in /Users/alperenunal/anaconda3/lib/python3.11/site-packages (from nltk) (2022.7.9)\n",
      "Requirement already satisfied: tqdm in /Users/alperenunal/anaconda3/lib/python3.11/site-packages (from nltk) (4.65.0)\n",
      "Note: you may need to restart the kernel to use updated packages.\n"
     ]
    }
   ],
   "source": [
    "pip install nltk"
   ]
  },
  {
   "cell_type": "code",
   "execution_count": 2,
   "id": "12d19094",
   "metadata": {},
   "outputs": [
    {
     "name": "stdout",
     "output_type": "stream",
     "text": [
      "Requirement already satisfied: contractions in /Users/alperenunal/anaconda3/lib/python3.11/site-packages (0.1.73)\n",
      "Requirement already satisfied: textsearch>=0.0.21 in /Users/alperenunal/anaconda3/lib/python3.11/site-packages (from contractions) (0.0.24)\n",
      "Requirement already satisfied: anyascii in /Users/alperenunal/anaconda3/lib/python3.11/site-packages (from textsearch>=0.0.21->contractions) (0.3.2)\n",
      "Requirement already satisfied: pyahocorasick in /Users/alperenunal/anaconda3/lib/python3.11/site-packages (from textsearch>=0.0.21->contractions) (2.0.0)\n",
      "Note: you may need to restart the kernel to use updated packages.\n"
     ]
    }
   ],
   "source": [
    "pip install contractions"
   ]
  },
  {
   "cell_type": "code",
   "execution_count": 3,
   "id": "1e552768",
   "metadata": {},
   "outputs": [],
   "source": [
    "import pandas as pd\n",
    "import matplotlib.pyplot as plt\n",
    "import re\n",
    "import contractions\n",
    "import seaborn as sns\n",
    "import matplotlib.pyplot as plt\n",
    "import numpy as np\n",
    "import nltk\n",
    "\n",
    "from nltk.tokenize import sent_tokenize, word_tokenize\n",
    "from nltk.stem import PorterStemmer, WordNetLemmatizer\n",
    "from nltk.corpus import stopwords\n",
    "from nltk import ngrams\n",
    "\n",
    "from sklearn.feature_extraction.text import CountVectorizer, TfidfTransformer\n",
    "from sklearn.naive_bayes import MultinomialNB\n",
    "from sklearn.metrics import classification_report, accuracy_score, confusion_matrix, make_scorer, recall_score, precision_score, f1_score\n",
    "from sklearn.model_selection import StratifiedKFold, cross_validate, LeaveOneOut, train_test_split\n",
    "\n",
    "from keras.models import Sequential\n",
    "from keras.layers import Dense\n",
    "from keras.optimizers import Adam"
   ]
  },
  {
   "cell_type": "markdown",
   "id": "e9d72f49",
   "metadata": {},
   "source": [
    "## 1. Dataset Acquisition"
   ]
  },
  {
   "cell_type": "markdown",
   "id": "1def3f82",
   "metadata": {},
   "source": [
    "Firstly dataset is imported with 'latin1'. While importing the dataset process, we select the proper columns which are 'v1' and 'v2'. Other columns contain NaN values. And suggesting they may not be relevant for the analysis."
   ]
  },
  {
   "cell_type": "code",
   "execution_count": 4,
   "id": "7338346b",
   "metadata": {},
   "outputs": [],
   "source": [
    "df = pd.read_csv(\"spam.csv\", encoding= 'latin1')"
   ]
  },
  {
   "cell_type": "code",
   "execution_count": 5,
   "id": "90402727",
   "metadata": {},
   "outputs": [
    {
     "name": "stdout",
     "output_type": "stream",
     "text": [
      "<class 'pandas.core.frame.DataFrame'>\n",
      "RangeIndex: 5572 entries, 0 to 5571\n",
      "Data columns (total 5 columns):\n",
      " #   Column      Non-Null Count  Dtype \n",
      "---  ------      --------------  ----- \n",
      " 0   v1          5572 non-null   object\n",
      " 1   v2          5572 non-null   object\n",
      " 2   Unnamed: 2  50 non-null     object\n",
      " 3   Unnamed: 3  12 non-null     object\n",
      " 4   Unnamed: 4  6 non-null      object\n",
      "dtypes: object(5)\n",
      "memory usage: 217.8+ KB\n"
     ]
    }
   ],
   "source": [
    "df.info()"
   ]
  },
  {
   "cell_type": "code",
   "execution_count": 6,
   "id": "cd9bf18d",
   "metadata": {
    "scrolled": true
   },
   "outputs": [
    {
     "data": {
      "text/html": [
       "<div>\n",
       "<style scoped>\n",
       "    .dataframe tbody tr th:only-of-type {\n",
       "        vertical-align: middle;\n",
       "    }\n",
       "\n",
       "    .dataframe tbody tr th {\n",
       "        vertical-align: top;\n",
       "    }\n",
       "\n",
       "    .dataframe thead th {\n",
       "        text-align: right;\n",
       "    }\n",
       "</style>\n",
       "<table border=\"1\" class=\"dataframe\">\n",
       "  <thead>\n",
       "    <tr style=\"text-align: right;\">\n",
       "      <th></th>\n",
       "      <th>v1</th>\n",
       "      <th>v2</th>\n",
       "      <th>Unnamed: 2</th>\n",
       "      <th>Unnamed: 3</th>\n",
       "      <th>Unnamed: 4</th>\n",
       "    </tr>\n",
       "  </thead>\n",
       "  <tbody>\n",
       "    <tr>\n",
       "      <th>0</th>\n",
       "      <td>ham</td>\n",
       "      <td>Go until jurong point, crazy.. Available only ...</td>\n",
       "      <td>NaN</td>\n",
       "      <td>NaN</td>\n",
       "      <td>NaN</td>\n",
       "    </tr>\n",
       "    <tr>\n",
       "      <th>1</th>\n",
       "      <td>ham</td>\n",
       "      <td>Ok lar... Joking wif u oni...</td>\n",
       "      <td>NaN</td>\n",
       "      <td>NaN</td>\n",
       "      <td>NaN</td>\n",
       "    </tr>\n",
       "    <tr>\n",
       "      <th>2</th>\n",
       "      <td>spam</td>\n",
       "      <td>Free entry in 2 a wkly comp to win FA Cup fina...</td>\n",
       "      <td>NaN</td>\n",
       "      <td>NaN</td>\n",
       "      <td>NaN</td>\n",
       "    </tr>\n",
       "    <tr>\n",
       "      <th>3</th>\n",
       "      <td>ham</td>\n",
       "      <td>U dun say so early hor... U c already then say...</td>\n",
       "      <td>NaN</td>\n",
       "      <td>NaN</td>\n",
       "      <td>NaN</td>\n",
       "    </tr>\n",
       "    <tr>\n",
       "      <th>4</th>\n",
       "      <td>ham</td>\n",
       "      <td>Nah I don't think he goes to usf, he lives aro...</td>\n",
       "      <td>NaN</td>\n",
       "      <td>NaN</td>\n",
       "      <td>NaN</td>\n",
       "    </tr>\n",
       "  </tbody>\n",
       "</table>\n",
       "</div>"
      ],
      "text/plain": [
       "     v1                                                 v2 Unnamed: 2  \\\n",
       "0   ham  Go until jurong point, crazy.. Available only ...        NaN   \n",
       "1   ham                      Ok lar... Joking wif u oni...        NaN   \n",
       "2  spam  Free entry in 2 a wkly comp to win FA Cup fina...        NaN   \n",
       "3   ham  U dun say so early hor... U c already then say...        NaN   \n",
       "4   ham  Nah I don't think he goes to usf, he lives aro...        NaN   \n",
       "\n",
       "  Unnamed: 3 Unnamed: 4  \n",
       "0        NaN        NaN  \n",
       "1        NaN        NaN  \n",
       "2        NaN        NaN  \n",
       "3        NaN        NaN  \n",
       "4        NaN        NaN  "
      ]
     },
     "execution_count": 6,
     "metadata": {},
     "output_type": "execute_result"
    }
   ],
   "source": [
    "df.head()"
   ]
  },
  {
   "cell_type": "markdown",
   "id": "dcde2b32",
   "metadata": {},
   "source": [
    "As be seen there are 3 irrelevant and unnamed columns in the dataset. Also they have missing values. Dou to this reason, these 3 columns should be removed from the dataset."
   ]
  },
  {
   "cell_type": "code",
   "execution_count": 7,
   "id": "9cfe1d6c",
   "metadata": {},
   "outputs": [],
   "source": [
    "df.drop(['Unnamed: 2', 'Unnamed: 3', 'Unnamed: 4'], axis=1, inplace=True)"
   ]
  },
  {
   "cell_type": "code",
   "execution_count": 8,
   "id": "1d981529",
   "metadata": {},
   "outputs": [
    {
     "data": {
      "text/html": [
       "<div>\n",
       "<style scoped>\n",
       "    .dataframe tbody tr th:only-of-type {\n",
       "        vertical-align: middle;\n",
       "    }\n",
       "\n",
       "    .dataframe tbody tr th {\n",
       "        vertical-align: top;\n",
       "    }\n",
       "\n",
       "    .dataframe thead th {\n",
       "        text-align: right;\n",
       "    }\n",
       "</style>\n",
       "<table border=\"1\" class=\"dataframe\">\n",
       "  <thead>\n",
       "    <tr style=\"text-align: right;\">\n",
       "      <th></th>\n",
       "      <th>v1</th>\n",
       "      <th>v2</th>\n",
       "    </tr>\n",
       "  </thead>\n",
       "  <tbody>\n",
       "    <tr>\n",
       "      <th>0</th>\n",
       "      <td>ham</td>\n",
       "      <td>Go until jurong point, crazy.. Available only ...</td>\n",
       "    </tr>\n",
       "    <tr>\n",
       "      <th>1</th>\n",
       "      <td>ham</td>\n",
       "      <td>Ok lar... Joking wif u oni...</td>\n",
       "    </tr>\n",
       "    <tr>\n",
       "      <th>2</th>\n",
       "      <td>spam</td>\n",
       "      <td>Free entry in 2 a wkly comp to win FA Cup fina...</td>\n",
       "    </tr>\n",
       "    <tr>\n",
       "      <th>3</th>\n",
       "      <td>ham</td>\n",
       "      <td>U dun say so early hor... U c already then say...</td>\n",
       "    </tr>\n",
       "    <tr>\n",
       "      <th>4</th>\n",
       "      <td>ham</td>\n",
       "      <td>Nah I don't think he goes to usf, he lives aro...</td>\n",
       "    </tr>\n",
       "    <tr>\n",
       "      <th>...</th>\n",
       "      <td>...</td>\n",
       "      <td>...</td>\n",
       "    </tr>\n",
       "    <tr>\n",
       "      <th>5567</th>\n",
       "      <td>spam</td>\n",
       "      <td>This is the 2nd time we have tried 2 contact u...</td>\n",
       "    </tr>\n",
       "    <tr>\n",
       "      <th>5568</th>\n",
       "      <td>ham</td>\n",
       "      <td>Will Ì_ b going to esplanade fr home?</td>\n",
       "    </tr>\n",
       "    <tr>\n",
       "      <th>5569</th>\n",
       "      <td>ham</td>\n",
       "      <td>Pity, * was in mood for that. So...any other s...</td>\n",
       "    </tr>\n",
       "    <tr>\n",
       "      <th>5570</th>\n",
       "      <td>ham</td>\n",
       "      <td>The guy did some bitching but I acted like i'd...</td>\n",
       "    </tr>\n",
       "    <tr>\n",
       "      <th>5571</th>\n",
       "      <td>ham</td>\n",
       "      <td>Rofl. Its true to its name</td>\n",
       "    </tr>\n",
       "  </tbody>\n",
       "</table>\n",
       "<p>5572 rows × 2 columns</p>\n",
       "</div>"
      ],
      "text/plain": [
       "        v1                                                 v2\n",
       "0      ham  Go until jurong point, crazy.. Available only ...\n",
       "1      ham                      Ok lar... Joking wif u oni...\n",
       "2     spam  Free entry in 2 a wkly comp to win FA Cup fina...\n",
       "3      ham  U dun say so early hor... U c already then say...\n",
       "4      ham  Nah I don't think he goes to usf, he lives aro...\n",
       "...    ...                                                ...\n",
       "5567  spam  This is the 2nd time we have tried 2 contact u...\n",
       "5568   ham              Will Ì_ b going to esplanade fr home?\n",
       "5569   ham  Pity, * was in mood for that. So...any other s...\n",
       "5570   ham  The guy did some bitching but I acted like i'd...\n",
       "5571   ham                         Rofl. Its true to its name\n",
       "\n",
       "[5572 rows x 2 columns]"
      ]
     },
     "execution_count": 8,
     "metadata": {},
     "output_type": "execute_result"
    }
   ],
   "source": [
    "df"
   ]
  },
  {
   "cell_type": "code",
   "execution_count": 9,
   "id": "63218142",
   "metadata": {
    "scrolled": true
   },
   "outputs": [
    {
     "name": "stdout",
     "output_type": "stream",
     "text": [
      "v1\n",
      "ham     4825\n",
      "spam     747\n",
      "Name: count, dtype: int64\n"
     ]
    }
   ],
   "source": [
    "counts = df['v1'].value_counts()\n",
    "print(counts)"
   ]
  },
  {
   "cell_type": "markdown",
   "id": "ebfb4dfd",
   "metadata": {},
   "source": [
    "Dataset is imbalanced. We will use cross validation, loocv and kfold methods in the further \n",
    "steps."
   ]
  },
  {
   "cell_type": "markdown",
   "id": "2fd03ed7",
   "metadata": {},
   "source": [
    "## 2.Data Cleaning"
   ]
  },
  {
   "cell_type": "code",
   "execution_count": 10,
   "id": "b7f6d45f",
   "metadata": {},
   "outputs": [],
   "source": [
    "# Column names have been changed to make them easier to understand.\n",
    "df.rename(columns={'v1': 'Label', 'v2': 'Text'}, inplace =True)"
   ]
  },
  {
   "cell_type": "code",
   "execution_count": 11,
   "id": "1841bf51",
   "metadata": {
    "scrolled": true
   },
   "outputs": [
    {
     "data": {
      "text/html": [
       "<div>\n",
       "<style scoped>\n",
       "    .dataframe tbody tr th:only-of-type {\n",
       "        vertical-align: middle;\n",
       "    }\n",
       "\n",
       "    .dataframe tbody tr th {\n",
       "        vertical-align: top;\n",
       "    }\n",
       "\n",
       "    .dataframe thead th {\n",
       "        text-align: right;\n",
       "    }\n",
       "</style>\n",
       "<table border=\"1\" class=\"dataframe\">\n",
       "  <thead>\n",
       "    <tr style=\"text-align: right;\">\n",
       "      <th></th>\n",
       "      <th>Label</th>\n",
       "      <th>Text</th>\n",
       "    </tr>\n",
       "  </thead>\n",
       "  <tbody>\n",
       "    <tr>\n",
       "      <th>0</th>\n",
       "      <td>ham</td>\n",
       "      <td>Go until jurong point, crazy.. Available only ...</td>\n",
       "    </tr>\n",
       "    <tr>\n",
       "      <th>1</th>\n",
       "      <td>ham</td>\n",
       "      <td>Ok lar... Joking wif u oni...</td>\n",
       "    </tr>\n",
       "    <tr>\n",
       "      <th>2</th>\n",
       "      <td>spam</td>\n",
       "      <td>Free entry in 2 a wkly comp to win FA Cup fina...</td>\n",
       "    </tr>\n",
       "    <tr>\n",
       "      <th>3</th>\n",
       "      <td>ham</td>\n",
       "      <td>U dun say so early hor... U c already then say...</td>\n",
       "    </tr>\n",
       "    <tr>\n",
       "      <th>4</th>\n",
       "      <td>ham</td>\n",
       "      <td>Nah I don't think he goes to usf, he lives aro...</td>\n",
       "    </tr>\n",
       "  </tbody>\n",
       "</table>\n",
       "</div>"
      ],
      "text/plain": [
       "  Label                                               Text\n",
       "0   ham  Go until jurong point, crazy.. Available only ...\n",
       "1   ham                      Ok lar... Joking wif u oni...\n",
       "2  spam  Free entry in 2 a wkly comp to win FA Cup fina...\n",
       "3   ham  U dun say so early hor... U c already then say...\n",
       "4   ham  Nah I don't think he goes to usf, he lives aro..."
      ]
     },
     "execution_count": 11,
     "metadata": {},
     "output_type": "execute_result"
    }
   ],
   "source": [
    "df.head()"
   ]
  },
  {
   "cell_type": "code",
   "execution_count": 12,
   "id": "051c0e94",
   "metadata": {},
   "outputs": [
    {
     "name": "stdout",
     "output_type": "stream",
     "text": [
      "Spam message example:\n",
      "Free entry in 2 a wkly comp to win FA Cup final tkts 21st May 2005. Text FA to 87121 to receive entry question(std txt rate)T&C's apply 08452810075over18's\n",
      "\n",
      "Ham message example:\n",
      "Go until jurong point, crazy.. Available only in bugis n great world la e buffet... Cine there got amore wat...\n"
     ]
    }
   ],
   "source": [
    "spam_messages = df[df['Label'] == 'spam']['Text']\n",
    "# Filter ham messages\n",
    "ham_messages = df[df['Label'] == 'ham']['Text']\n",
    "\n",
    "# Display an example of a spam message\n",
    "print(\"Spam message example:\")\n",
    "print(spam_messages.iloc[0])  # Display the first spam message\n",
    "\n",
    "# Display an example of a ham message\n",
    "print(\"\\nHam message example:\")\n",
    "print(ham_messages.iloc[0])  # Display the first ham message"
   ]
  },
  {
   "cell_type": "code",
   "execution_count": 12,
   "id": "880afb19",
   "metadata": {},
   "outputs": [
    {
     "data": {
      "text/plain": [
       "Label    0\n",
       "Text     0\n",
       "dtype: int64"
      ]
     },
     "execution_count": 12,
     "metadata": {},
     "output_type": "execute_result"
    }
   ],
   "source": [
    "# Checking the missing values:\n",
    "df.isnull().sum()"
   ]
  },
  {
   "cell_type": "code",
   "execution_count": 13,
   "id": "82c6554d",
   "metadata": {},
   "outputs": [
    {
     "data": {
      "text/plain": [
       "403"
      ]
     },
     "execution_count": 13,
     "metadata": {},
     "output_type": "execute_result"
    }
   ],
   "source": [
    "# Checking the duplicated values:\n",
    "df.duplicated().sum()"
   ]
  },
  {
   "cell_type": "code",
   "execution_count": 14,
   "id": "040d9538",
   "metadata": {},
   "outputs": [],
   "source": [
    "# Removing duplicated values and keeping the first value:\n",
    "df = df.drop_duplicates(keep = 'first')"
   ]
  },
  {
   "cell_type": "code",
   "execution_count": 15,
   "id": "8d9a6dfb",
   "metadata": {},
   "outputs": [
    {
     "data": {
      "text/plain": [
       "0"
      ]
     },
     "execution_count": 15,
     "metadata": {},
     "output_type": "execute_result"
    }
   ],
   "source": [
    "# Checking duplicated values again:\n",
    "df.duplicated().sum()"
   ]
  },
  {
   "cell_type": "code",
   "execution_count": 16,
   "id": "630b3f7c",
   "metadata": {},
   "outputs": [
    {
     "name": "stdout",
     "output_type": "stream",
     "text": [
      "Label\n",
      "ham     4516\n",
      "spam     653\n",
      "Name: count, dtype: int64\n"
     ]
    }
   ],
   "source": [
    "counts = df['Label'].value_counts()\n",
    "print(counts)"
   ]
  },
  {
   "cell_type": "code",
   "execution_count": 17,
   "id": "19e12937",
   "metadata": {},
   "outputs": [
    {
     "data": {
      "text/plain": [
       "<matplotlib.legend.Legend at 0x17ab37850>"
      ]
     },
     "execution_count": 17,
     "metadata": {},
     "output_type": "execute_result"
    },
    {
     "data": {
      "image/png": "[encoded data removed]",
      "text/plain": [
       "<Figure size 500x500 with 1 Axes>"
      ]
     },
     "metadata": {},
     "output_type": "display_data"
    }
   ],
   "source": [
    "colors = ['#5B9FFF','#524fff']\n",
    "plt.figure(figsize=(5, 5))\n",
    "plt.title(\"Label\")\n",
    "plt.pie(counts, labels = ['ham','scam'], \n",
    "        colors = colors, autopct = '%1.2f%%')\n",
    "plt.legend()"
   ]
  },
  {
   "cell_type": "markdown",
   "id": "912fa4c5",
   "metadata": {},
   "source": [
    "As can be seen the dataset is still imbalanced even after removing duplicate values."
   ]
  },
  {
   "cell_type": "code",
   "execution_count": 18,
   "id": "12381563",
   "metadata": {
    "scrolled": true
   },
   "outputs": [
    {
     "name": "stdout",
     "output_type": "stream",
     "text": [
      "Label    object\n",
      "Text     object\n",
      "dtype: object\n"
     ]
    }
   ],
   "source": [
    "# Checking Data types\n",
    "print(df.dtypes)"
   ]
  },
  {
   "cell_type": "code",
   "execution_count": 19,
   "id": "7a8c62b9",
   "metadata": {
    "scrolled": true
   },
   "outputs": [
    {
     "data": {
      "text/html": [
       "<div>\n",
       "<style scoped>\n",
       "    .dataframe tbody tr th:only-of-type {\n",
       "        vertical-align: middle;\n",
       "    }\n",
       "\n",
       "    .dataframe tbody tr th {\n",
       "        vertical-align: top;\n",
       "    }\n",
       "\n",
       "    .dataframe thead th {\n",
       "        text-align: right;\n",
       "    }\n",
       "</style>\n",
       "<table border=\"1\" class=\"dataframe\">\n",
       "  <thead>\n",
       "    <tr style=\"text-align: right;\">\n",
       "      <th></th>\n",
       "      <th>Label</th>\n",
       "      <th>Text</th>\n",
       "    </tr>\n",
       "  </thead>\n",
       "  <tbody>\n",
       "    <tr>\n",
       "      <th>0</th>\n",
       "      <td>0</td>\n",
       "      <td>Go until jurong point, crazy.. Available only ...</td>\n",
       "    </tr>\n",
       "    <tr>\n",
       "      <th>1</th>\n",
       "      <td>0</td>\n",
       "      <td>Ok lar... Joking wif u oni...</td>\n",
       "    </tr>\n",
       "    <tr>\n",
       "      <th>2</th>\n",
       "      <td>1</td>\n",
       "      <td>Free entry in 2 a wkly comp to win FA Cup fina...</td>\n",
       "    </tr>\n",
       "    <tr>\n",
       "      <th>3</th>\n",
       "      <td>0</td>\n",
       "      <td>U dun say so early hor... U c already then say...</td>\n",
       "    </tr>\n",
       "    <tr>\n",
       "      <th>4</th>\n",
       "      <td>0</td>\n",
       "      <td>Nah I don't think he goes to usf, he lives aro...</td>\n",
       "    </tr>\n",
       "    <tr>\n",
       "      <th>...</th>\n",
       "      <td>...</td>\n",
       "      <td>...</td>\n",
       "    </tr>\n",
       "    <tr>\n",
       "      <th>5567</th>\n",
       "      <td>1</td>\n",
       "      <td>This is the 2nd time we have tried 2 contact u...</td>\n",
       "    </tr>\n",
       "    <tr>\n",
       "      <th>5568</th>\n",
       "      <td>0</td>\n",
       "      <td>Will Ì_ b going to esplanade fr home?</td>\n",
       "    </tr>\n",
       "    <tr>\n",
       "      <th>5569</th>\n",
       "      <td>0</td>\n",
       "      <td>Pity, * was in mood for that. So...any other s...</td>\n",
       "    </tr>\n",
       "    <tr>\n",
       "      <th>5570</th>\n",
       "      <td>0</td>\n",
       "      <td>The guy did some bitching but I acted like i'd...</td>\n",
       "    </tr>\n",
       "    <tr>\n",
       "      <th>5571</th>\n",
       "      <td>0</td>\n",
       "      <td>Rofl. Its true to its name</td>\n",
       "    </tr>\n",
       "  </tbody>\n",
       "</table>\n",
       "<p>5169 rows × 2 columns</p>\n",
       "</div>"
      ],
      "text/plain": [
       "     Label                                               Text\n",
       "0        0  Go until jurong point, crazy.. Available only ...\n",
       "1        0                      Ok lar... Joking wif u oni...\n",
       "2        1  Free entry in 2 a wkly comp to win FA Cup fina...\n",
       "3        0  U dun say so early hor... U c already then say...\n",
       "4        0  Nah I don't think he goes to usf, he lives aro...\n",
       "...    ...                                                ...\n",
       "5567     1  This is the 2nd time we have tried 2 contact u...\n",
       "5568     0              Will Ì_ b going to esplanade fr home?\n",
       "5569     0  Pity, * was in mood for that. So...any other s...\n",
       "5570     0  The guy did some bitching but I acted like i'd...\n",
       "5571     0                         Rofl. Its true to its name\n",
       "\n",
       "[5169 rows x 2 columns]"
      ]
     },
     "execution_count": 19,
     "metadata": {},
     "output_type": "execute_result"
    }
   ],
   "source": [
    "# We will change the target column's input for the future modelling steps\n",
    "\n",
    "df.loc[:, 'Label'] = df['Label'].replace({'ham': 0, 'spam': 1})\n",
    "\n",
    "df\n"
   ]
  },
  {
   "cell_type": "markdown",
   "id": "19b61c54",
   "metadata": {},
   "source": [
    "Using .loc ensures that the modifications, such as converting text to lowercase, removing stop words etc. are directly applied to the original DataFrame, eliminating the SettingWithCopyWarning and safeguarding data integrity by clearly indicating that changes should affect the original data, not a copy."
   ]
  },
  {
   "cell_type": "markdown",
   "id": "4a406cd3",
   "metadata": {},
   "source": [
    "## 3. Pre-processing"
   ]
  },
  {
   "cell_type": "markdown",
   "id": "1a62faa1",
   "metadata": {},
   "source": [
    "### 3.1 Text Cleaning"
   ]
  },
  {
   "cell_type": "markdown",
   "id": "41d2700b",
   "metadata": {},
   "source": [
    "#### 3.1.1 Lowercasing"
   ]
  },
  {
   "cell_type": "code",
   "execution_count": 20,
   "id": "b544a07e",
   "metadata": {
    "scrolled": false
   },
   "outputs": [],
   "source": [
    "df.loc[:, 'Text'] = df['Text'].str.lower()"
   ]
  },
  {
   "cell_type": "code",
   "execution_count": 21,
   "id": "4e15ff93",
   "metadata": {
    "scrolled": true
   },
   "outputs": [
    {
     "data": {
      "text/html": [
       "<div>\n",
       "<style scoped>\n",
       "    .dataframe tbody tr th:only-of-type {\n",
       "        vertical-align: middle;\n",
       "    }\n",
       "\n",
       "    .dataframe tbody tr th {\n",
       "        vertical-align: top;\n",
       "    }\n",
       "\n",
       "    .dataframe thead th {\n",
       "        text-align: right;\n",
       "    }\n",
       "</style>\n",
       "<table border=\"1\" class=\"dataframe\">\n",
       "  <thead>\n",
       "    <tr style=\"text-align: right;\">\n",
       "      <th></th>\n",
       "      <th>Label</th>\n",
       "      <th>Text</th>\n",
       "    </tr>\n",
       "  </thead>\n",
       "  <tbody>\n",
       "    <tr>\n",
       "      <th>0</th>\n",
       "      <td>0</td>\n",
       "      <td>go until jurong point, crazy.. available only ...</td>\n",
       "    </tr>\n",
       "    <tr>\n",
       "      <th>1</th>\n",
       "      <td>0</td>\n",
       "      <td>ok lar... joking wif u oni...</td>\n",
       "    </tr>\n",
       "    <tr>\n",
       "      <th>2</th>\n",
       "      <td>1</td>\n",
       "      <td>free entry in 2 a wkly comp to win fa cup fina...</td>\n",
       "    </tr>\n",
       "    <tr>\n",
       "      <th>3</th>\n",
       "      <td>0</td>\n",
       "      <td>u dun say so early hor... u c already then say...</td>\n",
       "    </tr>\n",
       "    <tr>\n",
       "      <th>4</th>\n",
       "      <td>0</td>\n",
       "      <td>nah i don't think he goes to usf, he lives aro...</td>\n",
       "    </tr>\n",
       "  </tbody>\n",
       "</table>\n",
       "</div>"
      ],
      "text/plain": [
       "  Label                                               Text\n",
       "0     0  go until jurong point, crazy.. available only ...\n",
       "1     0                      ok lar... joking wif u oni...\n",
       "2     1  free entry in 2 a wkly comp to win fa cup fina...\n",
       "3     0  u dun say so early hor... u c already then say...\n",
       "4     0  nah i don't think he goes to usf, he lives aro..."
      ]
     },
     "execution_count": 21,
     "metadata": {},
     "output_type": "execute_result"
    }
   ],
   "source": [
    "df.head()"
   ]
  },
  {
   "cell_type": "markdown",
   "id": "6ee2e272",
   "metadata": {},
   "source": [
    "We lowercased all the dataset. Because it is the first step of pre-processing. After this step we can easily arrenge tokenization and the other pre-processing steps."
   ]
  },
  {
   "cell_type": "markdown",
   "id": "ce4875b3",
   "metadata": {},
   "source": [
    "#### 3.1.2 Removing Special Characters and Numbers"
   ]
  },
  {
   "cell_type": "code",
   "execution_count": 22,
   "id": "2971fdea",
   "metadata": {},
   "outputs": [],
   "source": [
    "def removing(text):\n",
    "    # Numbers\n",
    "    text = re.sub(r'\\d+', '', text)\n",
    "    # Special characters and punctuation except of numbers, letters, and '_'\n",
    "    text = re.sub(r'[^\\w\\s]', '', text)\n",
    "    return text\n",
    "\n",
    "df.loc[:, 'Text'] = df['Text'].apply(removing)"
   ]
  },
  {
   "cell_type": "code",
   "execution_count": 23,
   "id": "f860de80",
   "metadata": {
    "scrolled": true
   },
   "outputs": [
    {
     "data": {
      "text/html": [
       "<div>\n",
       "<style scoped>\n",
       "    .dataframe tbody tr th:only-of-type {\n",
       "        vertical-align: middle;\n",
       "    }\n",
       "\n",
       "    .dataframe tbody tr th {\n",
       "        vertical-align: top;\n",
       "    }\n",
       "\n",
       "    .dataframe thead th {\n",
       "        text-align: right;\n",
       "    }\n",
       "</style>\n",
       "<table border=\"1\" class=\"dataframe\">\n",
       "  <thead>\n",
       "    <tr style=\"text-align: right;\">\n",
       "      <th></th>\n",
       "      <th>Label</th>\n",
       "      <th>Text</th>\n",
       "    </tr>\n",
       "  </thead>\n",
       "  <tbody>\n",
       "    <tr>\n",
       "      <th>0</th>\n",
       "      <td>0</td>\n",
       "      <td>go until jurong point crazy available only in ...</td>\n",
       "    </tr>\n",
       "    <tr>\n",
       "      <th>1</th>\n",
       "      <td>0</td>\n",
       "      <td>ok lar joking wif u oni</td>\n",
       "    </tr>\n",
       "    <tr>\n",
       "      <th>2</th>\n",
       "      <td>1</td>\n",
       "      <td>free entry in  a wkly comp to win fa cup final...</td>\n",
       "    </tr>\n",
       "    <tr>\n",
       "      <th>3</th>\n",
       "      <td>0</td>\n",
       "      <td>u dun say so early hor u c already then say</td>\n",
       "    </tr>\n",
       "    <tr>\n",
       "      <th>4</th>\n",
       "      <td>0</td>\n",
       "      <td>nah i dont think he goes to usf he lives aroun...</td>\n",
       "    </tr>\n",
       "  </tbody>\n",
       "</table>\n",
       "</div>"
      ],
      "text/plain": [
       "  Label                                               Text\n",
       "0     0  go until jurong point crazy available only in ...\n",
       "1     0                            ok lar joking wif u oni\n",
       "2     1  free entry in  a wkly comp to win fa cup final...\n",
       "3     0        u dun say so early hor u c already then say\n",
       "4     0  nah i dont think he goes to usf he lives aroun..."
      ]
     },
     "execution_count": 23,
     "metadata": {},
     "output_type": "execute_result"
    }
   ],
   "source": [
    "df.head()"
   ]
  },
  {
   "cell_type": "markdown",
   "id": "4a43517d",
   "metadata": {},
   "source": [
    "#### 3.1.3 Converting Contractions"
   ]
  },
  {
   "cell_type": "markdown",
   "id": "dfa9927d",
   "metadata": {},
   "source": [
    "Contractions are shortened versions of words or syllables. After this expantion step they will be transformed into their fuller version."
   ]
  },
  {
   "cell_type": "code",
   "execution_count": 24,
   "id": "3b3c75ee",
   "metadata": {},
   "outputs": [],
   "source": [
    "def expand_text_contractions(text):\n",
    "    expanded_text = contractions.fix(text)\n",
    "    return expanded_text"
   ]
  },
  {
   "cell_type": "code",
   "execution_count": 25,
   "id": "0d449f32",
   "metadata": {},
   "outputs": [
    {
     "data": {
      "text/html": [
       "<div>\n",
       "<style scoped>\n",
       "    .dataframe tbody tr th:only-of-type {\n",
       "        vertical-align: middle;\n",
       "    }\n",
       "\n",
       "    .dataframe tbody tr th {\n",
       "        vertical-align: top;\n",
       "    }\n",
       "\n",
       "    .dataframe thead th {\n",
       "        text-align: right;\n",
       "    }\n",
       "</style>\n",
       "<table border=\"1\" class=\"dataframe\">\n",
       "  <thead>\n",
       "    <tr style=\"text-align: right;\">\n",
       "      <th></th>\n",
       "      <th>Label</th>\n",
       "      <th>Text</th>\n",
       "    </tr>\n",
       "  </thead>\n",
       "  <tbody>\n",
       "    <tr>\n",
       "      <th>0</th>\n",
       "      <td>0</td>\n",
       "      <td>go until jurong point crazy available only in ...</td>\n",
       "    </tr>\n",
       "    <tr>\n",
       "      <th>1</th>\n",
       "      <td>0</td>\n",
       "      <td>ok lar joking wif you oni</td>\n",
       "    </tr>\n",
       "    <tr>\n",
       "      <th>2</th>\n",
       "      <td>1</td>\n",
       "      <td>free entry in  a wkly comp to win fa cup final...</td>\n",
       "    </tr>\n",
       "    <tr>\n",
       "      <th>3</th>\n",
       "      <td>0</td>\n",
       "      <td>you dun say so early hor you c already then say</td>\n",
       "    </tr>\n",
       "    <tr>\n",
       "      <th>4</th>\n",
       "      <td>0</td>\n",
       "      <td>nah i do not think he goes to usf he lives aro...</td>\n",
       "    </tr>\n",
       "    <tr>\n",
       "      <th>...</th>\n",
       "      <td>...</td>\n",
       "      <td>...</td>\n",
       "    </tr>\n",
       "    <tr>\n",
       "      <th>5567</th>\n",
       "      <td>1</td>\n",
       "      <td>this is the nd time we have tried  contact you...</td>\n",
       "    </tr>\n",
       "    <tr>\n",
       "      <th>5568</th>\n",
       "      <td>0</td>\n",
       "      <td>will ì_ b going to esplanade fr home</td>\n",
       "    </tr>\n",
       "    <tr>\n",
       "      <th>5569</th>\n",
       "      <td>0</td>\n",
       "      <td>pity  was in mood for that soany other suggest...</td>\n",
       "    </tr>\n",
       "    <tr>\n",
       "      <th>5570</th>\n",
       "      <td>0</td>\n",
       "      <td>the guy did some bitching but i acted like id ...</td>\n",
       "    </tr>\n",
       "    <tr>\n",
       "      <th>5571</th>\n",
       "      <td>0</td>\n",
       "      <td>rofl its true to its name</td>\n",
       "    </tr>\n",
       "  </tbody>\n",
       "</table>\n",
       "<p>5169 rows × 2 columns</p>\n",
       "</div>"
      ],
      "text/plain": [
       "     Label                                               Text\n",
       "0        0  go until jurong point crazy available only in ...\n",
       "1        0                          ok lar joking wif you oni\n",
       "2        1  free entry in  a wkly comp to win fa cup final...\n",
       "3        0    you dun say so early hor you c already then say\n",
       "4        0  nah i do not think he goes to usf he lives aro...\n",
       "...    ...                                                ...\n",
       "5567     1  this is the nd time we have tried  contact you...\n",
       "5568     0               will ì_ b going to esplanade fr home\n",
       "5569     0  pity  was in mood for that soany other suggest...\n",
       "5570     0  the guy did some bitching but i acted like id ...\n",
       "5571     0                          rofl its true to its name\n",
       "\n",
       "[5169 rows x 2 columns]"
      ]
     },
     "execution_count": 25,
     "metadata": {},
     "output_type": "execute_result"
    }
   ],
   "source": [
    "df.loc[:, 'Text'] = df['Text'].apply(expand_text_contractions)\n",
    "df"
   ]
  },
  {
   "cell_type": "markdown",
   "id": "6afbe746",
   "metadata": {},
   "source": [
    "#### 3.1.4  Replace URLs and Email Addresses"
   ]
  },
  {
   "cell_type": "code",
   "execution_count": 26,
   "id": "874b15b7",
   "metadata": {},
   "outputs": [],
   "source": [
    "# Replacing URLs to 'URL', emails to 'EMAIL'\n",
    "def replace_urls_and_emails(text, url_placeholder=\"URL\", email_placeholder=\"EMAIL\"):\n",
    "    url_pattern = r'https?://\\S+|www\\.\\S+'\n",
    "    text = re.sub(url_pattern, url_placeholder, text)\n",
    "    \n",
    "    email_pattern = r'\\b[A-Za-z0-9._%+-]+@[A-Za-z0-9.-]+\\.[A-Z|a-z]{2,}\\b'\n",
    "    text = re.sub(email_pattern, email_placeholder, text)\n",
    "    \n",
    "    return text"
   ]
  },
  {
   "cell_type": "code",
   "execution_count": 27,
   "id": "b9595a7f",
   "metadata": {},
   "outputs": [],
   "source": [
    "# Applying the function to the dataset:\n",
    "df.loc[:, 'Text'] = df['Text'].apply(replace_urls_and_emails)"
   ]
  },
  {
   "cell_type": "code",
   "execution_count": 28,
   "id": "a5d8f16b",
   "metadata": {},
   "outputs": [
    {
     "name": "stdout",
     "output_type": "stream",
     "text": [
      "     Label                                               Text\n",
      "0        0  go until jurong point crazy available only in ...\n",
      "1        0                          ok lar joking wif you oni\n",
      "2        1  free entry in  a wkly comp to win fa cup final...\n",
      "3        0    you dun say so early hor you c already then say\n",
      "4        0  nah i do not think he goes to usf he lives aro...\n",
      "...    ...                                                ...\n",
      "5567     1  this is the nd time we have tried  contact you...\n",
      "5568     0               will ì_ b going to esplanade fr home\n",
      "5569     0  pity  was in mood for that soany other suggest...\n",
      "5570     0  the guy did some bitching but i acted like id ...\n",
      "5571     0                          rofl its true to its name\n",
      "\n",
      "[5169 rows x 2 columns]\n"
     ]
    }
   ],
   "source": [
    "print(df)"
   ]
  },
  {
   "cell_type": "markdown",
   "id": "f954c337",
   "metadata": {},
   "source": [
    "### 3.2 Tokenization"
   ]
  },
  {
   "cell_type": "code",
   "execution_count": 29,
   "id": "ba33d1c4",
   "metadata": {
    "scrolled": true
   },
   "outputs": [
    {
     "name": "stderr",
     "output_type": "stream",
     "text": [
      "[nltk_data] Downloading package punkt to\n",
      "[nltk_data]     /Users/alperenunal/nltk_data...\n",
      "[nltk_data]   Package punkt is already up-to-date!\n"
     ]
    },
    {
     "data": {
      "text/plain": [
       "True"
      ]
     },
     "execution_count": 29,
     "metadata": {},
     "output_type": "execute_result"
    }
   ],
   "source": [
    "nltk.download('punkt')"
   ]
  },
  {
   "cell_type": "code",
   "execution_count": 30,
   "id": "4f8056b4",
   "metadata": {},
   "outputs": [],
   "source": [
    "def tokenize_sentences(text):\n",
    "    return sent_tokenize(text)\n",
    "\n",
    "def tokenize_words(text):\n",
    "    return word_tokenize(text)\n"
   ]
  },
  {
   "cell_type": "code",
   "execution_count": 31,
   "id": "b309fca5",
   "metadata": {
    "scrolled": true
   },
   "outputs": [
    {
     "name": "stderr",
     "output_type": "stream",
     "text": [
      "/var/folders/wl/n7pq_5rj1bz43l8jft3ps3q40000gp/T/ipykernel_29453/3989645501.py:1: SettingWithCopyWarning: \n",
      "A value is trying to be set on a copy of a slice from a DataFrame.\n",
      "Try using .loc[row_indexer,col_indexer] = value instead\n",
      "\n",
      "See the caveats in the documentation: https://pandas.pydata.org/pandas-docs/stable/user_guide/indexing.html#returning-a-view-versus-a-copy\n",
      "  df.loc[:, 'Sentences'] = df['Text'].apply(tokenize_sentences)\n",
      "/var/folders/wl/n7pq_5rj1bz43l8jft3ps3q40000gp/T/ipykernel_29453/3989645501.py:2: SettingWithCopyWarning: \n",
      "A value is trying to be set on a copy of a slice from a DataFrame.\n",
      "Try using .loc[row_indexer,col_indexer] = value instead\n",
      "\n",
      "See the caveats in the documentation: https://pandas.pydata.org/pandas-docs/stable/user_guide/indexing.html#returning-a-view-versus-a-copy\n",
      "  df.loc[:, 'Words'] = df['Text'].apply(tokenize_words)\n"
     ]
    }
   ],
   "source": [
    "df.loc[:, 'Sentences'] = df['Text'].apply(tokenize_sentences)\n",
    "df.loc[:, 'Words'] = df['Text'].apply(tokenize_words)\n"
   ]
  },
  {
   "cell_type": "code",
   "execution_count": 32,
   "id": "b17e8cad",
   "metadata": {},
   "outputs": [
    {
     "data": {
      "text/html": [
       "<div>\n",
       "<style scoped>\n",
       "    .dataframe tbody tr th:only-of-type {\n",
       "        vertical-align: middle;\n",
       "    }\n",
       "\n",
       "    .dataframe tbody tr th {\n",
       "        vertical-align: top;\n",
       "    }\n",
       "\n",
       "    .dataframe thead th {\n",
       "        text-align: right;\n",
       "    }\n",
       "</style>\n",
       "<table border=\"1\" class=\"dataframe\">\n",
       "  <thead>\n",
       "    <tr style=\"text-align: right;\">\n",
       "      <th></th>\n",
       "      <th>Label</th>\n",
       "      <th>Text</th>\n",
       "      <th>Sentences</th>\n",
       "      <th>Words</th>\n",
       "    </tr>\n",
       "  </thead>\n",
       "  <tbody>\n",
       "    <tr>\n",
       "      <th>0</th>\n",
       "      <td>0</td>\n",
       "      <td>go until jurong point crazy available only in ...</td>\n",
       "      <td>[go until jurong point crazy available only in...</td>\n",
       "      <td>[go, until, jurong, point, crazy, available, o...</td>\n",
       "    </tr>\n",
       "    <tr>\n",
       "      <th>1</th>\n",
       "      <td>0</td>\n",
       "      <td>ok lar joking wif you oni</td>\n",
       "      <td>[ok lar joking wif you oni]</td>\n",
       "      <td>[ok, lar, joking, wif, you, oni]</td>\n",
       "    </tr>\n",
       "    <tr>\n",
       "      <th>2</th>\n",
       "      <td>1</td>\n",
       "      <td>free entry in  a wkly comp to win fa cup final...</td>\n",
       "      <td>[free entry in  a wkly comp to win fa cup fina...</td>\n",
       "      <td>[free, entry, in, a, wkly, comp, to, win, fa, ...</td>\n",
       "    </tr>\n",
       "    <tr>\n",
       "      <th>3</th>\n",
       "      <td>0</td>\n",
       "      <td>you dun say so early hor you c already then say</td>\n",
       "      <td>[you dun say so early hor you c already then say]</td>\n",
       "      <td>[you, dun, say, so, early, hor, you, c, alread...</td>\n",
       "    </tr>\n",
       "    <tr>\n",
       "      <th>4</th>\n",
       "      <td>0</td>\n",
       "      <td>nah i do not think he goes to usf he lives aro...</td>\n",
       "      <td>[nah i do not think he goes to usf he lives ar...</td>\n",
       "      <td>[nah, i, do, not, think, he, goes, to, usf, he...</td>\n",
       "    </tr>\n",
       "    <tr>\n",
       "      <th>...</th>\n",
       "      <td>...</td>\n",
       "      <td>...</td>\n",
       "      <td>...</td>\n",
       "      <td>...</td>\n",
       "    </tr>\n",
       "    <tr>\n",
       "      <th>5567</th>\n",
       "      <td>1</td>\n",
       "      <td>this is the nd time we have tried  contact you...</td>\n",
       "      <td>[this is the nd time we have tried  contact yo...</td>\n",
       "      <td>[this, is, the, nd, time, we, have, tried, con...</td>\n",
       "    </tr>\n",
       "    <tr>\n",
       "      <th>5568</th>\n",
       "      <td>0</td>\n",
       "      <td>will ì_ b going to esplanade fr home</td>\n",
       "      <td>[will ì_ b going to esplanade fr home]</td>\n",
       "      <td>[will, ì_, b, going, to, esplanade, fr, home]</td>\n",
       "    </tr>\n",
       "    <tr>\n",
       "      <th>5569</th>\n",
       "      <td>0</td>\n",
       "      <td>pity  was in mood for that soany other suggest...</td>\n",
       "      <td>[pity  was in mood for that soany other sugges...</td>\n",
       "      <td>[pity, was, in, mood, for, that, soany, other,...</td>\n",
       "    </tr>\n",
       "    <tr>\n",
       "      <th>5570</th>\n",
       "      <td>0</td>\n",
       "      <td>the guy did some bitching but i acted like id ...</td>\n",
       "      <td>[the guy did some bitching but i acted like id...</td>\n",
       "      <td>[the, guy, did, some, bitching, but, i, acted,...</td>\n",
       "    </tr>\n",
       "    <tr>\n",
       "      <th>5571</th>\n",
       "      <td>0</td>\n",
       "      <td>rofl its true to its name</td>\n",
       "      <td>[rofl its true to its name]</td>\n",
       "      <td>[rofl, its, true, to, its, name]</td>\n",
       "    </tr>\n",
       "  </tbody>\n",
       "</table>\n",
       "<p>5169 rows × 4 columns</p>\n",
       "</div>"
      ],
      "text/plain": [
       "     Label                                               Text  \\\n",
       "0        0  go until jurong point crazy available only in ...   \n",
       "1        0                          ok lar joking wif you oni   \n",
       "2        1  free entry in  a wkly comp to win fa cup final...   \n",
       "3        0    you dun say so early hor you c already then say   \n",
       "4        0  nah i do not think he goes to usf he lives aro...   \n",
       "...    ...                                                ...   \n",
       "5567     1  this is the nd time we have tried  contact you...   \n",
       "5568     0               will ì_ b going to esplanade fr home   \n",
       "5569     0  pity  was in mood for that soany other suggest...   \n",
       "5570     0  the guy did some bitching but i acted like id ...   \n",
       "5571     0                          rofl its true to its name   \n",
       "\n",
       "                                              Sentences  \\\n",
       "0     [go until jurong point crazy available only in...   \n",
       "1                           [ok lar joking wif you oni]   \n",
       "2     [free entry in  a wkly comp to win fa cup fina...   \n",
       "3     [you dun say so early hor you c already then say]   \n",
       "4     [nah i do not think he goes to usf he lives ar...   \n",
       "...                                                 ...   \n",
       "5567  [this is the nd time we have tried  contact yo...   \n",
       "5568             [will ì_ b going to esplanade fr home]   \n",
       "5569  [pity  was in mood for that soany other sugges...   \n",
       "5570  [the guy did some bitching but i acted like id...   \n",
       "5571                        [rofl its true to its name]   \n",
       "\n",
       "                                                  Words  \n",
       "0     [go, until, jurong, point, crazy, available, o...  \n",
       "1                      [ok, lar, joking, wif, you, oni]  \n",
       "2     [free, entry, in, a, wkly, comp, to, win, fa, ...  \n",
       "3     [you, dun, say, so, early, hor, you, c, alread...  \n",
       "4     [nah, i, do, not, think, he, goes, to, usf, he...  \n",
       "...                                                 ...  \n",
       "5567  [this, is, the, nd, time, we, have, tried, con...  \n",
       "5568      [will, ì_, b, going, to, esplanade, fr, home]  \n",
       "5569  [pity, was, in, mood, for, that, soany, other,...  \n",
       "5570  [the, guy, did, some, bitching, but, i, acted,...  \n",
       "5571                   [rofl, its, true, to, its, name]  \n",
       "\n",
       "[5169 rows x 4 columns]"
      ]
     },
     "execution_count": 32,
     "metadata": {},
     "output_type": "execute_result"
    }
   ],
   "source": [
    "df"
   ]
  },
  {
   "cell_type": "markdown",
   "id": "95ec5323",
   "metadata": {},
   "source": [
    "Tokenization is the process of breaking down text into smaller components, such as words or phrases, known as tokens. This step is fundamental in natural language processing (NLP) as it helps in understanding the context or sentiment of the text by analyzing its individual elements"
   ]
  },
  {
   "cell_type": "markdown",
   "id": "ae5291f9",
   "metadata": {},
   "source": [
    "### 3.3 Stemming"
   ]
  },
  {
   "cell_type": "code",
   "execution_count": 33,
   "id": "3054ddd0",
   "metadata": {},
   "outputs": [],
   "source": [
    "ps = PorterStemmer()"
   ]
  },
  {
   "cell_type": "code",
   "execution_count": 34,
   "id": "1b294171",
   "metadata": {
    "scrolled": true
   },
   "outputs": [
    {
     "name": "stderr",
     "output_type": "stream",
     "text": [
      "/var/folders/wl/n7pq_5rj1bz43l8jft3ps3q40000gp/T/ipykernel_29453/3568372205.py:1: SettingWithCopyWarning: \n",
      "A value is trying to be set on a copy of a slice from a DataFrame.\n",
      "Try using .loc[row_indexer,col_indexer] = value instead\n",
      "\n",
      "See the caveats in the documentation: https://pandas.pydata.org/pandas-docs/stable/user_guide/indexing.html#returning-a-view-versus-a-copy\n",
      "  df.loc[:, 'Stemmed_words'] = df['Words'].apply(lambda word_list: [ps.stem(word) for word in word_list])\n"
     ]
    }
   ],
   "source": [
    "df.loc[:, 'Stemmed_words'] = df['Words'].apply(lambda word_list: [ps.stem(word) for word in word_list])"
   ]
  },
  {
   "cell_type": "code",
   "execution_count": 35,
   "id": "70ea3edc",
   "metadata": {},
   "outputs": [
    {
     "data": {
      "text/html": [
       "<div>\n",
       "<style scoped>\n",
       "    .dataframe tbody tr th:only-of-type {\n",
       "        vertical-align: middle;\n",
       "    }\n",
       "\n",
       "    .dataframe tbody tr th {\n",
       "        vertical-align: top;\n",
       "    }\n",
       "\n",
       "    .dataframe thead th {\n",
       "        text-align: right;\n",
       "    }\n",
       "</style>\n",
       "<table border=\"1\" class=\"dataframe\">\n",
       "  <thead>\n",
       "    <tr style=\"text-align: right;\">\n",
       "      <th></th>\n",
       "      <th>Label</th>\n",
       "      <th>Text</th>\n",
       "      <th>Sentences</th>\n",
       "      <th>Words</th>\n",
       "      <th>Stemmed_words</th>\n",
       "    </tr>\n",
       "  </thead>\n",
       "  <tbody>\n",
       "    <tr>\n",
       "      <th>0</th>\n",
       "      <td>0</td>\n",
       "      <td>go until jurong point crazy available only in ...</td>\n",
       "      <td>[go until jurong point crazy available only in...</td>\n",
       "      <td>[go, until, jurong, point, crazy, available, o...</td>\n",
       "      <td>[go, until, jurong, point, crazi, avail, onli,...</td>\n",
       "    </tr>\n",
       "    <tr>\n",
       "      <th>1</th>\n",
       "      <td>0</td>\n",
       "      <td>ok lar joking wif you oni</td>\n",
       "      <td>[ok lar joking wif you oni]</td>\n",
       "      <td>[ok, lar, joking, wif, you, oni]</td>\n",
       "      <td>[ok, lar, joke, wif, you, oni]</td>\n",
       "    </tr>\n",
       "    <tr>\n",
       "      <th>2</th>\n",
       "      <td>1</td>\n",
       "      <td>free entry in  a wkly comp to win fa cup final...</td>\n",
       "      <td>[free entry in  a wkly comp to win fa cup fina...</td>\n",
       "      <td>[free, entry, in, a, wkly, comp, to, win, fa, ...</td>\n",
       "      <td>[free, entri, in, a, wkli, comp, to, win, fa, ...</td>\n",
       "    </tr>\n",
       "    <tr>\n",
       "      <th>3</th>\n",
       "      <td>0</td>\n",
       "      <td>you dun say so early hor you c already then say</td>\n",
       "      <td>[you dun say so early hor you c already then say]</td>\n",
       "      <td>[you, dun, say, so, early, hor, you, c, alread...</td>\n",
       "      <td>[you, dun, say, so, earli, hor, you, c, alread...</td>\n",
       "    </tr>\n",
       "    <tr>\n",
       "      <th>4</th>\n",
       "      <td>0</td>\n",
       "      <td>nah i do not think he goes to usf he lives aro...</td>\n",
       "      <td>[nah i do not think he goes to usf he lives ar...</td>\n",
       "      <td>[nah, i, do, not, think, he, goes, to, usf, he...</td>\n",
       "      <td>[nah, i, do, not, think, he, goe, to, usf, he,...</td>\n",
       "    </tr>\n",
       "    <tr>\n",
       "      <th>...</th>\n",
       "      <td>...</td>\n",
       "      <td>...</td>\n",
       "      <td>...</td>\n",
       "      <td>...</td>\n",
       "      <td>...</td>\n",
       "    </tr>\n",
       "    <tr>\n",
       "      <th>5567</th>\n",
       "      <td>1</td>\n",
       "      <td>this is the nd time we have tried  contact you...</td>\n",
       "      <td>[this is the nd time we have tried  contact yo...</td>\n",
       "      <td>[this, is, the, nd, time, we, have, tried, con...</td>\n",
       "      <td>[thi, is, the, nd, time, we, have, tri, contac...</td>\n",
       "    </tr>\n",
       "    <tr>\n",
       "      <th>5568</th>\n",
       "      <td>0</td>\n",
       "      <td>will ì_ b going to esplanade fr home</td>\n",
       "      <td>[will ì_ b going to esplanade fr home]</td>\n",
       "      <td>[will, ì_, b, going, to, esplanade, fr, home]</td>\n",
       "      <td>[will, ì_, b, go, to, esplanad, fr, home]</td>\n",
       "    </tr>\n",
       "    <tr>\n",
       "      <th>5569</th>\n",
       "      <td>0</td>\n",
       "      <td>pity  was in mood for that soany other suggest...</td>\n",
       "      <td>[pity  was in mood for that soany other sugges...</td>\n",
       "      <td>[pity, was, in, mood, for, that, soany, other,...</td>\n",
       "      <td>[piti, wa, in, mood, for, that, soani, other, ...</td>\n",
       "    </tr>\n",
       "    <tr>\n",
       "      <th>5570</th>\n",
       "      <td>0</td>\n",
       "      <td>the guy did some bitching but i acted like id ...</td>\n",
       "      <td>[the guy did some bitching but i acted like id...</td>\n",
       "      <td>[the, guy, did, some, bitching, but, i, acted,...</td>\n",
       "      <td>[the, guy, did, some, bitch, but, i, act, like...</td>\n",
       "    </tr>\n",
       "    <tr>\n",
       "      <th>5571</th>\n",
       "      <td>0</td>\n",
       "      <td>rofl its true to its name</td>\n",
       "      <td>[rofl its true to its name]</td>\n",
       "      <td>[rofl, its, true, to, its, name]</td>\n",
       "      <td>[rofl, it, true, to, it, name]</td>\n",
       "    </tr>\n",
       "  </tbody>\n",
       "</table>\n",
       "<p>5169 rows × 5 columns</p>\n",
       "</div>"
      ],
      "text/plain": [
       "     Label                                               Text  \\\n",
       "0        0  go until jurong point crazy available only in ...   \n",
       "1        0                          ok lar joking wif you oni   \n",
       "2        1  free entry in  a wkly comp to win fa cup final...   \n",
       "3        0    you dun say so early hor you c already then say   \n",
       "4        0  nah i do not think he goes to usf he lives aro...   \n",
       "...    ...                                                ...   \n",
       "5567     1  this is the nd time we have tried  contact you...   \n",
       "5568     0               will ì_ b going to esplanade fr home   \n",
       "5569     0  pity  was in mood for that soany other suggest...   \n",
       "5570     0  the guy did some bitching but i acted like id ...   \n",
       "5571     0                          rofl its true to its name   \n",
       "\n",
       "                                              Sentences  \\\n",
       "0     [go until jurong point crazy available only in...   \n",
       "1                           [ok lar joking wif you oni]   \n",
       "2     [free entry in  a wkly comp to win fa cup fina...   \n",
       "3     [you dun say so early hor you c already then say]   \n",
       "4     [nah i do not think he goes to usf he lives ar...   \n",
       "...                                                 ...   \n",
       "5567  [this is the nd time we have tried  contact yo...   \n",
       "5568             [will ì_ b going to esplanade fr home]   \n",
       "5569  [pity  was in mood for that soany other sugges...   \n",
       "5570  [the guy did some bitching but i acted like id...   \n",
       "5571                        [rofl its true to its name]   \n",
       "\n",
       "                                                  Words  \\\n",
       "0     [go, until, jurong, point, crazy, available, o...   \n",
       "1                      [ok, lar, joking, wif, you, oni]   \n",
       "2     [free, entry, in, a, wkly, comp, to, win, fa, ...   \n",
       "3     [you, dun, say, so, early, hor, you, c, alread...   \n",
       "4     [nah, i, do, not, think, he, goes, to, usf, he...   \n",
       "...                                                 ...   \n",
       "5567  [this, is, the, nd, time, we, have, tried, con...   \n",
       "5568      [will, ì_, b, going, to, esplanade, fr, home]   \n",
       "5569  [pity, was, in, mood, for, that, soany, other,...   \n",
       "5570  [the, guy, did, some, bitching, but, i, acted,...   \n",
       "5571                   [rofl, its, true, to, its, name]   \n",
       "\n",
       "                                          Stemmed_words  \n",
       "0     [go, until, jurong, point, crazi, avail, onli,...  \n",
       "1                        [ok, lar, joke, wif, you, oni]  \n",
       "2     [free, entri, in, a, wkli, comp, to, win, fa, ...  \n",
       "3     [you, dun, say, so, earli, hor, you, c, alread...  \n",
       "4     [nah, i, do, not, think, he, goe, to, usf, he,...  \n",
       "...                                                 ...  \n",
       "5567  [thi, is, the, nd, time, we, have, tri, contac...  \n",
       "5568          [will, ì_, b, go, to, esplanad, fr, home]  \n",
       "5569  [piti, wa, in, mood, for, that, soani, other, ...  \n",
       "5570  [the, guy, did, some, bitch, but, i, act, like...  \n",
       "5571                     [rofl, it, true, to, it, name]  \n",
       "\n",
       "[5169 rows x 5 columns]"
      ]
     },
     "execution_count": 35,
     "metadata": {},
     "output_type": "execute_result"
    }
   ],
   "source": [
    "df"
   ]
  },
  {
   "cell_type": "markdown",
   "id": "0e588854",
   "metadata": {},
   "source": [
    "I use lambda function because,  I had created a column that includes tokenized words, And I imply stemming process on this column while using word_list which represents each list of words in the 'Words' column."
   ]
  },
  {
   "cell_type": "markdown",
   "id": "afcd9dce",
   "metadata": {},
   "source": [
    "### 3.4 Lemmatization"
   ]
  },
  {
   "cell_type": "code",
   "execution_count": 36,
   "id": "3e89c1a7",
   "metadata": {},
   "outputs": [
    {
     "name": "stderr",
     "output_type": "stream",
     "text": [
      "[nltk_data] Downloading package wordnet to\n",
      "[nltk_data]     /Users/alperenunal/nltk_data...\n",
      "[nltk_data]   Package wordnet is already up-to-date!\n"
     ]
    },
    {
     "data": {
      "text/plain": [
       "True"
      ]
     },
     "execution_count": 36,
     "metadata": {},
     "output_type": "execute_result"
    }
   ],
   "source": [
    "nltk.download('wordnet')"
   ]
  },
  {
   "cell_type": "code",
   "execution_count": 37,
   "id": "bed4a027",
   "metadata": {},
   "outputs": [],
   "source": [
    "wnlemma = WordNetLemmatizer()"
   ]
  },
  {
   "cell_type": "code",
   "execution_count": 38,
   "id": "124edf3a",
   "metadata": {},
   "outputs": [],
   "source": [
    "def lemmatize(word_list):\n",
    "    lemmatized_list = [wnlemma.lemmatize(word) for word in word_list]\n",
    "    return lemmatized_list"
   ]
  },
  {
   "cell_type": "code",
   "execution_count": 39,
   "id": "7c0b33e9",
   "metadata": {
    "scrolled": true
   },
   "outputs": [
    {
     "name": "stderr",
     "output_type": "stream",
     "text": [
      "/var/folders/wl/n7pq_5rj1bz43l8jft3ps3q40000gp/T/ipykernel_29453/383487548.py:1: SettingWithCopyWarning: \n",
      "A value is trying to be set on a copy of a slice from a DataFrame.\n",
      "Try using .loc[row_indexer,col_indexer] = value instead\n",
      "\n",
      "See the caveats in the documentation: https://pandas.pydata.org/pandas-docs/stable/user_guide/indexing.html#returning-a-view-versus-a-copy\n",
      "  df.loc[:, 'Lemmatized_Words'] = df['Words'].apply(lemmatize)\n"
     ]
    }
   ],
   "source": [
    "df.loc[:, 'Lemmatized_Words'] = df['Words'].apply(lemmatize)"
   ]
  },
  {
   "cell_type": "code",
   "execution_count": 40,
   "id": "bc630d0e",
   "metadata": {
    "scrolled": true
   },
   "outputs": [
    {
     "data": {
      "text/html": [
       "<div>\n",
       "<style scoped>\n",
       "    .dataframe tbody tr th:only-of-type {\n",
       "        vertical-align: middle;\n",
       "    }\n",
       "\n",
       "    .dataframe tbody tr th {\n",
       "        vertical-align: top;\n",
       "    }\n",
       "\n",
       "    .dataframe thead th {\n",
       "        text-align: right;\n",
       "    }\n",
       "</style>\n",
       "<table border=\"1\" class=\"dataframe\">\n",
       "  <thead>\n",
       "    <tr style=\"text-align: right;\">\n",
       "      <th></th>\n",
       "      <th>Label</th>\n",
       "      <th>Text</th>\n",
       "      <th>Sentences</th>\n",
       "      <th>Words</th>\n",
       "      <th>Stemmed_words</th>\n",
       "      <th>Lemmatized_Words</th>\n",
       "    </tr>\n",
       "  </thead>\n",
       "  <tbody>\n",
       "    <tr>\n",
       "      <th>0</th>\n",
       "      <td>0</td>\n",
       "      <td>go until jurong point crazy available only in ...</td>\n",
       "      <td>[go until jurong point crazy available only in...</td>\n",
       "      <td>[go, until, jurong, point, crazy, available, o...</td>\n",
       "      <td>[go, until, jurong, point, crazi, avail, onli,...</td>\n",
       "      <td>[go, until, jurong, point, crazy, available, o...</td>\n",
       "    </tr>\n",
       "    <tr>\n",
       "      <th>1</th>\n",
       "      <td>0</td>\n",
       "      <td>ok lar joking wif you oni</td>\n",
       "      <td>[ok lar joking wif you oni]</td>\n",
       "      <td>[ok, lar, joking, wif, you, oni]</td>\n",
       "      <td>[ok, lar, joke, wif, you, oni]</td>\n",
       "      <td>[ok, lar, joking, wif, you, oni]</td>\n",
       "    </tr>\n",
       "    <tr>\n",
       "      <th>2</th>\n",
       "      <td>1</td>\n",
       "      <td>free entry in  a wkly comp to win fa cup final...</td>\n",
       "      <td>[free entry in  a wkly comp to win fa cup fina...</td>\n",
       "      <td>[free, entry, in, a, wkly, comp, to, win, fa, ...</td>\n",
       "      <td>[free, entri, in, a, wkli, comp, to, win, fa, ...</td>\n",
       "      <td>[free, entry, in, a, wkly, comp, to, win, fa, ...</td>\n",
       "    </tr>\n",
       "    <tr>\n",
       "      <th>3</th>\n",
       "      <td>0</td>\n",
       "      <td>you dun say so early hor you c already then say</td>\n",
       "      <td>[you dun say so early hor you c already then say]</td>\n",
       "      <td>[you, dun, say, so, early, hor, you, c, alread...</td>\n",
       "      <td>[you, dun, say, so, earli, hor, you, c, alread...</td>\n",
       "      <td>[you, dun, say, so, early, hor, you, c, alread...</td>\n",
       "    </tr>\n",
       "    <tr>\n",
       "      <th>4</th>\n",
       "      <td>0</td>\n",
       "      <td>nah i do not think he goes to usf he lives aro...</td>\n",
       "      <td>[nah i do not think he goes to usf he lives ar...</td>\n",
       "      <td>[nah, i, do, not, think, he, goes, to, usf, he...</td>\n",
       "      <td>[nah, i, do, not, think, he, goe, to, usf, he,...</td>\n",
       "      <td>[nah, i, do, not, think, he, go, to, usf, he, ...</td>\n",
       "    </tr>\n",
       "    <tr>\n",
       "      <th>...</th>\n",
       "      <td>...</td>\n",
       "      <td>...</td>\n",
       "      <td>...</td>\n",
       "      <td>...</td>\n",
       "      <td>...</td>\n",
       "      <td>...</td>\n",
       "    </tr>\n",
       "    <tr>\n",
       "      <th>5567</th>\n",
       "      <td>1</td>\n",
       "      <td>this is the nd time we have tried  contact you...</td>\n",
       "      <td>[this is the nd time we have tried  contact yo...</td>\n",
       "      <td>[this, is, the, nd, time, we, have, tried, con...</td>\n",
       "      <td>[thi, is, the, nd, time, we, have, tri, contac...</td>\n",
       "      <td>[this, is, the, nd, time, we, have, tried, con...</td>\n",
       "    </tr>\n",
       "    <tr>\n",
       "      <th>5568</th>\n",
       "      <td>0</td>\n",
       "      <td>will ì_ b going to esplanade fr home</td>\n",
       "      <td>[will ì_ b going to esplanade fr home]</td>\n",
       "      <td>[will, ì_, b, going, to, esplanade, fr, home]</td>\n",
       "      <td>[will, ì_, b, go, to, esplanad, fr, home]</td>\n",
       "      <td>[will, ì_, b, going, to, esplanade, fr, home]</td>\n",
       "    </tr>\n",
       "    <tr>\n",
       "      <th>5569</th>\n",
       "      <td>0</td>\n",
       "      <td>pity  was in mood for that soany other suggest...</td>\n",
       "      <td>[pity  was in mood for that soany other sugges...</td>\n",
       "      <td>[pity, was, in, mood, for, that, soany, other,...</td>\n",
       "      <td>[piti, wa, in, mood, for, that, soani, other, ...</td>\n",
       "      <td>[pity, wa, in, mood, for, that, soany, other, ...</td>\n",
       "    </tr>\n",
       "    <tr>\n",
       "      <th>5570</th>\n",
       "      <td>0</td>\n",
       "      <td>the guy did some bitching but i acted like id ...</td>\n",
       "      <td>[the guy did some bitching but i acted like id...</td>\n",
       "      <td>[the, guy, did, some, bitching, but, i, acted,...</td>\n",
       "      <td>[the, guy, did, some, bitch, but, i, act, like...</td>\n",
       "      <td>[the, guy, did, some, bitching, but, i, acted,...</td>\n",
       "    </tr>\n",
       "    <tr>\n",
       "      <th>5571</th>\n",
       "      <td>0</td>\n",
       "      <td>rofl its true to its name</td>\n",
       "      <td>[rofl its true to its name]</td>\n",
       "      <td>[rofl, its, true, to, its, name]</td>\n",
       "      <td>[rofl, it, true, to, it, name]</td>\n",
       "      <td>[rofl, it, true, to, it, name]</td>\n",
       "    </tr>\n",
       "  </tbody>\n",
       "</table>\n",
       "<p>5169 rows × 6 columns</p>\n",
       "</div>"
      ],
      "text/plain": [
       "     Label                                               Text  \\\n",
       "0        0  go until jurong point crazy available only in ...   \n",
       "1        0                          ok lar joking wif you oni   \n",
       "2        1  free entry in  a wkly comp to win fa cup final...   \n",
       "3        0    you dun say so early hor you c already then say   \n",
       "4        0  nah i do not think he goes to usf he lives aro...   \n",
       "...    ...                                                ...   \n",
       "5567     1  this is the nd time we have tried  contact you...   \n",
       "5568     0               will ì_ b going to esplanade fr home   \n",
       "5569     0  pity  was in mood for that soany other suggest...   \n",
       "5570     0  the guy did some bitching but i acted like id ...   \n",
       "5571     0                          rofl its true to its name   \n",
       "\n",
       "                                              Sentences  \\\n",
       "0     [go until jurong point crazy available only in...   \n",
       "1                           [ok lar joking wif you oni]   \n",
       "2     [free entry in  a wkly comp to win fa cup fina...   \n",
       "3     [you dun say so early hor you c already then say]   \n",
       "4     [nah i do not think he goes to usf he lives ar...   \n",
       "...                                                 ...   \n",
       "5567  [this is the nd time we have tried  contact yo...   \n",
       "5568             [will ì_ b going to esplanade fr home]   \n",
       "5569  [pity  was in mood for that soany other sugges...   \n",
       "5570  [the guy did some bitching but i acted like id...   \n",
       "5571                        [rofl its true to its name]   \n",
       "\n",
       "                                                  Words  \\\n",
       "0     [go, until, jurong, point, crazy, available, o...   \n",
       "1                      [ok, lar, joking, wif, you, oni]   \n",
       "2     [free, entry, in, a, wkly, comp, to, win, fa, ...   \n",
       "3     [you, dun, say, so, early, hor, you, c, alread...   \n",
       "4     [nah, i, do, not, think, he, goes, to, usf, he...   \n",
       "...                                                 ...   \n",
       "5567  [this, is, the, nd, time, we, have, tried, con...   \n",
       "5568      [will, ì_, b, going, to, esplanade, fr, home]   \n",
       "5569  [pity, was, in, mood, for, that, soany, other,...   \n",
       "5570  [the, guy, did, some, bitching, but, i, acted,...   \n",
       "5571                   [rofl, its, true, to, its, name]   \n",
       "\n",
       "                                          Stemmed_words  \\\n",
       "0     [go, until, jurong, point, crazi, avail, onli,...   \n",
       "1                        [ok, lar, joke, wif, you, oni]   \n",
       "2     [free, entri, in, a, wkli, comp, to, win, fa, ...   \n",
       "3     [you, dun, say, so, earli, hor, you, c, alread...   \n",
       "4     [nah, i, do, not, think, he, goe, to, usf, he,...   \n",
       "...                                                 ...   \n",
       "5567  [thi, is, the, nd, time, we, have, tri, contac...   \n",
       "5568          [will, ì_, b, go, to, esplanad, fr, home]   \n",
       "5569  [piti, wa, in, mood, for, that, soani, other, ...   \n",
       "5570  [the, guy, did, some, bitch, but, i, act, like...   \n",
       "5571                     [rofl, it, true, to, it, name]   \n",
       "\n",
       "                                       Lemmatized_Words  \n",
       "0     [go, until, jurong, point, crazy, available, o...  \n",
       "1                      [ok, lar, joking, wif, you, oni]  \n",
       "2     [free, entry, in, a, wkly, comp, to, win, fa, ...  \n",
       "3     [you, dun, say, so, early, hor, you, c, alread...  \n",
       "4     [nah, i, do, not, think, he, go, to, usf, he, ...  \n",
       "...                                                 ...  \n",
       "5567  [this, is, the, nd, time, we, have, tried, con...  \n",
       "5568      [will, ì_, b, going, to, esplanade, fr, home]  \n",
       "5569  [pity, wa, in, mood, for, that, soany, other, ...  \n",
       "5570  [the, guy, did, some, bitching, but, i, acted,...  \n",
       "5571                     [rofl, it, true, to, it, name]  \n",
       "\n",
       "[5169 rows x 6 columns]"
      ]
     },
     "execution_count": 40,
     "metadata": {},
     "output_type": "execute_result"
    }
   ],
   "source": [
    "df"
   ]
  },
  {
   "cell_type": "markdown",
   "id": "c2400032",
   "metadata": {},
   "source": [
    "Lemmatized words will be crucial on the further steps of my project. I will do feature engineering and Machine learning modeling based on lemmatized words."
   ]
  },
  {
   "cell_type": "markdown",
   "id": "99d8e29d",
   "metadata": {},
   "source": [
    "### 3.5 Stop Word Analysis"
   ]
  },
  {
   "cell_type": "code",
   "execution_count": 41,
   "id": "8f83551e",
   "metadata": {},
   "outputs": [
    {
     "name": "stderr",
     "output_type": "stream",
     "text": [
      "[nltk_data] Downloading package stopwords to\n",
      "[nltk_data]     /Users/alperenunal/nltk_data...\n",
      "[nltk_data]   Package stopwords is already up-to-date!\n"
     ]
    },
    {
     "data": {
      "text/plain": [
       "True"
      ]
     },
     "execution_count": 41,
     "metadata": {},
     "output_type": "execute_result"
    }
   ],
   "source": [
    "nltk.download('stopwords')"
   ]
  },
  {
   "cell_type": "code",
   "execution_count": 42,
   "id": "3046b6be",
   "metadata": {},
   "outputs": [],
   "source": [
    "stop_words_set = set(stopwords.words('english'))"
   ]
  },
  {
   "cell_type": "code",
   "execution_count": 43,
   "id": "2d282d4c",
   "metadata": {},
   "outputs": [],
   "source": [
    "def removing_stop_words(word_list):\n",
    "    stop_words = [word for word in word_list if word not in stop_words_set]\n",
    "    return stop_words"
   ]
  },
  {
   "cell_type": "code",
   "execution_count": 44,
   "id": "78d5de38",
   "metadata": {
    "scrolled": true
   },
   "outputs": [
    {
     "name": "stderr",
     "output_type": "stream",
     "text": [
      "/var/folders/wl/n7pq_5rj1bz43l8jft3ps3q40000gp/T/ipykernel_29453/2936696509.py:1: SettingWithCopyWarning: \n",
      "A value is trying to be set on a copy of a slice from a DataFrame.\n",
      "Try using .loc[row_indexer,col_indexer] = value instead\n",
      "\n",
      "See the caveats in the documentation: https://pandas.pydata.org/pandas-docs/stable/user_guide/indexing.html#returning-a-view-versus-a-copy\n",
      "  df.loc[:, 'Stop_Words_L'] = df['Lemmatized_Words'].apply(removing_stop_words)\n"
     ]
    }
   ],
   "source": [
    "df.loc[:, 'Stop_Words_L'] = df['Lemmatized_Words'].apply(removing_stop_words)"
   ]
  },
  {
   "cell_type": "code",
   "execution_count": 45,
   "id": "42540e8c",
   "metadata": {},
   "outputs": [
    {
     "data": {
      "text/html": [
       "<div>\n",
       "<style scoped>\n",
       "    .dataframe tbody tr th:only-of-type {\n",
       "        vertical-align: middle;\n",
       "    }\n",
       "\n",
       "    .dataframe tbody tr th {\n",
       "        vertical-align: top;\n",
       "    }\n",
       "\n",
       "    .dataframe thead th {\n",
       "        text-align: right;\n",
       "    }\n",
       "</style>\n",
       "<table border=\"1\" class=\"dataframe\">\n",
       "  <thead>\n",
       "    <tr style=\"text-align: right;\">\n",
       "      <th></th>\n",
       "      <th>Label</th>\n",
       "      <th>Text</th>\n",
       "      <th>Sentences</th>\n",
       "      <th>Words</th>\n",
       "      <th>Stemmed_words</th>\n",
       "      <th>Lemmatized_Words</th>\n",
       "      <th>Stop_Words_L</th>\n",
       "    </tr>\n",
       "  </thead>\n",
       "  <tbody>\n",
       "    <tr>\n",
       "      <th>0</th>\n",
       "      <td>0</td>\n",
       "      <td>go until jurong point crazy available only in ...</td>\n",
       "      <td>[go until jurong point crazy available only in...</td>\n",
       "      <td>[go, until, jurong, point, crazy, available, o...</td>\n",
       "      <td>[go, until, jurong, point, crazi, avail, onli,...</td>\n",
       "      <td>[go, until, jurong, point, crazy, available, o...</td>\n",
       "      <td>[go, jurong, point, crazy, available, bugis, n...</td>\n",
       "    </tr>\n",
       "    <tr>\n",
       "      <th>1</th>\n",
       "      <td>0</td>\n",
       "      <td>ok lar joking wif you oni</td>\n",
       "      <td>[ok lar joking wif you oni]</td>\n",
       "      <td>[ok, lar, joking, wif, you, oni]</td>\n",
       "      <td>[ok, lar, joke, wif, you, oni]</td>\n",
       "      <td>[ok, lar, joking, wif, you, oni]</td>\n",
       "      <td>[ok, lar, joking, wif, oni]</td>\n",
       "    </tr>\n",
       "    <tr>\n",
       "      <th>2</th>\n",
       "      <td>1</td>\n",
       "      <td>free entry in  a wkly comp to win fa cup final...</td>\n",
       "      <td>[free entry in  a wkly comp to win fa cup fina...</td>\n",
       "      <td>[free, entry, in, a, wkly, comp, to, win, fa, ...</td>\n",
       "      <td>[free, entri, in, a, wkli, comp, to, win, fa, ...</td>\n",
       "      <td>[free, entry, in, a, wkly, comp, to, win, fa, ...</td>\n",
       "      <td>[free, entry, wkly, comp, win, fa, cup, final,...</td>\n",
       "    </tr>\n",
       "    <tr>\n",
       "      <th>3</th>\n",
       "      <td>0</td>\n",
       "      <td>you dun say so early hor you c already then say</td>\n",
       "      <td>[you dun say so early hor you c already then say]</td>\n",
       "      <td>[you, dun, say, so, early, hor, you, c, alread...</td>\n",
       "      <td>[you, dun, say, so, earli, hor, you, c, alread...</td>\n",
       "      <td>[you, dun, say, so, early, hor, you, c, alread...</td>\n",
       "      <td>[dun, say, early, hor, c, already, say]</td>\n",
       "    </tr>\n",
       "    <tr>\n",
       "      <th>4</th>\n",
       "      <td>0</td>\n",
       "      <td>nah i do not think he goes to usf he lives aro...</td>\n",
       "      <td>[nah i do not think he goes to usf he lives ar...</td>\n",
       "      <td>[nah, i, do, not, think, he, goes, to, usf, he...</td>\n",
       "      <td>[nah, i, do, not, think, he, goe, to, usf, he,...</td>\n",
       "      <td>[nah, i, do, not, think, he, go, to, usf, he, ...</td>\n",
       "      <td>[nah, think, go, usf, life, around, though]</td>\n",
       "    </tr>\n",
       "    <tr>\n",
       "      <th>...</th>\n",
       "      <td>...</td>\n",
       "      <td>...</td>\n",
       "      <td>...</td>\n",
       "      <td>...</td>\n",
       "      <td>...</td>\n",
       "      <td>...</td>\n",
       "      <td>...</td>\n",
       "    </tr>\n",
       "    <tr>\n",
       "      <th>5567</th>\n",
       "      <td>1</td>\n",
       "      <td>this is the nd time we have tried  contact you...</td>\n",
       "      <td>[this is the nd time we have tried  contact yo...</td>\n",
       "      <td>[this, is, the, nd, time, we, have, tried, con...</td>\n",
       "      <td>[thi, is, the, nd, time, we, have, tri, contac...</td>\n",
       "      <td>[this, is, the, nd, time, we, have, tried, con...</td>\n",
       "      <td>[nd, time, tried, contact, å, pound, prize, cl...</td>\n",
       "    </tr>\n",
       "    <tr>\n",
       "      <th>5568</th>\n",
       "      <td>0</td>\n",
       "      <td>will ì_ b going to esplanade fr home</td>\n",
       "      <td>[will ì_ b going to esplanade fr home]</td>\n",
       "      <td>[will, ì_, b, going, to, esplanade, fr, home]</td>\n",
       "      <td>[will, ì_, b, go, to, esplanad, fr, home]</td>\n",
       "      <td>[will, ì_, b, going, to, esplanade, fr, home]</td>\n",
       "      <td>[ì_, b, going, esplanade, fr, home]</td>\n",
       "    </tr>\n",
       "    <tr>\n",
       "      <th>5569</th>\n",
       "      <td>0</td>\n",
       "      <td>pity  was in mood for that soany other suggest...</td>\n",
       "      <td>[pity  was in mood for that soany other sugges...</td>\n",
       "      <td>[pity, was, in, mood, for, that, soany, other,...</td>\n",
       "      <td>[piti, wa, in, mood, for, that, soani, other, ...</td>\n",
       "      <td>[pity, wa, in, mood, for, that, soany, other, ...</td>\n",
       "      <td>[pity, wa, mood, soany, suggestion]</td>\n",
       "    </tr>\n",
       "    <tr>\n",
       "      <th>5570</th>\n",
       "      <td>0</td>\n",
       "      <td>the guy did some bitching but i acted like id ...</td>\n",
       "      <td>[the guy did some bitching but i acted like id...</td>\n",
       "      <td>[the, guy, did, some, bitching, but, i, acted,...</td>\n",
       "      <td>[the, guy, did, some, bitch, but, i, act, like...</td>\n",
       "      <td>[the, guy, did, some, bitching, but, i, acted,...</td>\n",
       "      <td>[guy, bitching, acted, like, id, interested, b...</td>\n",
       "    </tr>\n",
       "    <tr>\n",
       "      <th>5571</th>\n",
       "      <td>0</td>\n",
       "      <td>rofl its true to its name</td>\n",
       "      <td>[rofl its true to its name]</td>\n",
       "      <td>[rofl, its, true, to, its, name]</td>\n",
       "      <td>[rofl, it, true, to, it, name]</td>\n",
       "      <td>[rofl, it, true, to, it, name]</td>\n",
       "      <td>[rofl, true, name]</td>\n",
       "    </tr>\n",
       "  </tbody>\n",
       "</table>\n",
       "<p>5169 rows × 7 columns</p>\n",
       "</div>"
      ],
      "text/plain": [
       "     Label                                               Text  \\\n",
       "0        0  go until jurong point crazy available only in ...   \n",
       "1        0                          ok lar joking wif you oni   \n",
       "2        1  free entry in  a wkly comp to win fa cup final...   \n",
       "3        0    you dun say so early hor you c already then say   \n",
       "4        0  nah i do not think he goes to usf he lives aro...   \n",
       "...    ...                                                ...   \n",
       "5567     1  this is the nd time we have tried  contact you...   \n",
       "5568     0               will ì_ b going to esplanade fr home   \n",
       "5569     0  pity  was in mood for that soany other suggest...   \n",
       "5570     0  the guy did some bitching but i acted like id ...   \n",
       "5571     0                          rofl its true to its name   \n",
       "\n",
       "                                              Sentences  \\\n",
       "0     [go until jurong point crazy available only in...   \n",
       "1                           [ok lar joking wif you oni]   \n",
       "2     [free entry in  a wkly comp to win fa cup fina...   \n",
       "3     [you dun say so early hor you c already then say]   \n",
       "4     [nah i do not think he goes to usf he lives ar...   \n",
       "...                                                 ...   \n",
       "5567  [this is the nd time we have tried  contact yo...   \n",
       "5568             [will ì_ b going to esplanade fr home]   \n",
       "5569  [pity  was in mood for that soany other sugges...   \n",
       "5570  [the guy did some bitching but i acted like id...   \n",
       "5571                        [rofl its true to its name]   \n",
       "\n",
       "                                                  Words  \\\n",
       "0     [go, until, jurong, point, crazy, available, o...   \n",
       "1                      [ok, lar, joking, wif, you, oni]   \n",
       "2     [free, entry, in, a, wkly, comp, to, win, fa, ...   \n",
       "3     [you, dun, say, so, early, hor, you, c, alread...   \n",
       "4     [nah, i, do, not, think, he, goes, to, usf, he...   \n",
       "...                                                 ...   \n",
       "5567  [this, is, the, nd, time, we, have, tried, con...   \n",
       "5568      [will, ì_, b, going, to, esplanade, fr, home]   \n",
       "5569  [pity, was, in, mood, for, that, soany, other,...   \n",
       "5570  [the, guy, did, some, bitching, but, i, acted,...   \n",
       "5571                   [rofl, its, true, to, its, name]   \n",
       "\n",
       "                                          Stemmed_words  \\\n",
       "0     [go, until, jurong, point, crazi, avail, onli,...   \n",
       "1                        [ok, lar, joke, wif, you, oni]   \n",
       "2     [free, entri, in, a, wkli, comp, to, win, fa, ...   \n",
       "3     [you, dun, say, so, earli, hor, you, c, alread...   \n",
       "4     [nah, i, do, not, think, he, goe, to, usf, he,...   \n",
       "...                                                 ...   \n",
       "5567  [thi, is, the, nd, time, we, have, tri, contac...   \n",
       "5568          [will, ì_, b, go, to, esplanad, fr, home]   \n",
       "5569  [piti, wa, in, mood, for, that, soani, other, ...   \n",
       "5570  [the, guy, did, some, bitch, but, i, act, like...   \n",
       "5571                     [rofl, it, true, to, it, name]   \n",
       "\n",
       "                                       Lemmatized_Words  \\\n",
       "0     [go, until, jurong, point, crazy, available, o...   \n",
       "1                      [ok, lar, joking, wif, you, oni]   \n",
       "2     [free, entry, in, a, wkly, comp, to, win, fa, ...   \n",
       "3     [you, dun, say, so, early, hor, you, c, alread...   \n",
       "4     [nah, i, do, not, think, he, go, to, usf, he, ...   \n",
       "...                                                 ...   \n",
       "5567  [this, is, the, nd, time, we, have, tried, con...   \n",
       "5568      [will, ì_, b, going, to, esplanade, fr, home]   \n",
       "5569  [pity, wa, in, mood, for, that, soany, other, ...   \n",
       "5570  [the, guy, did, some, bitching, but, i, acted,...   \n",
       "5571                     [rofl, it, true, to, it, name]   \n",
       "\n",
       "                                           Stop_Words_L  \n",
       "0     [go, jurong, point, crazy, available, bugis, n...  \n",
       "1                           [ok, lar, joking, wif, oni]  \n",
       "2     [free, entry, wkly, comp, win, fa, cup, final,...  \n",
       "3               [dun, say, early, hor, c, already, say]  \n",
       "4           [nah, think, go, usf, life, around, though]  \n",
       "...                                                 ...  \n",
       "5567  [nd, time, tried, contact, å, pound, prize, cl...  \n",
       "5568                [ì_, b, going, esplanade, fr, home]  \n",
       "5569                [pity, wa, mood, soany, suggestion]  \n",
       "5570  [guy, bitching, acted, like, id, interested, b...  \n",
       "5571                                 [rofl, true, name]  \n",
       "\n",
       "[5169 rows x 7 columns]"
      ]
     },
     "execution_count": 45,
     "metadata": {},
     "output_type": "execute_result"
    }
   ],
   "source": [
    "df"
   ]
  },
  {
   "cell_type": "markdown",
   "id": "31b9b848",
   "metadata": {},
   "source": [
    "### 3.6 Preprocessed Feature"
   ]
  },
  {
   "cell_type": "markdown",
   "id": "b3ecfb7f",
   "metadata": {},
   "source": [
    "TfidfVectorizer (and similarly, CountVectorizer followed by TfidfTransformer) requires input as raw text strings rather than lists of tokens. We need to create a suitable Processed_Text_L column for TF-IDF vectorization based on the Stop_Words_L column, and join the lists of words into single strings."
   ]
  },
  {
   "cell_type": "code",
   "execution_count": 46,
   "id": "0a0f84cc",
   "metadata": {},
   "outputs": [
    {
     "name": "stderr",
     "output_type": "stream",
     "text": [
      "/var/folders/wl/n7pq_5rj1bz43l8jft3ps3q40000gp/T/ipykernel_29453/2372899467.py:1: SettingWithCopyWarning: \n",
      "A value is trying to be set on a copy of a slice from a DataFrame.\n",
      "Try using .loc[row_indexer,col_indexer] = value instead\n",
      "\n",
      "See the caveats in the documentation: https://pandas.pydata.org/pandas-docs/stable/user_guide/indexing.html#returning-a-view-versus-a-copy\n",
      "  df.loc[:, 'Processed_Text_L'] = df['Stop_Words_L'].apply(lambda x: ' '.join(x))\n"
     ]
    },
    {
     "data": {
      "text/html": [
       "<div>\n",
       "<style scoped>\n",
       "    .dataframe tbody tr th:only-of-type {\n",
       "        vertical-align: middle;\n",
       "    }\n",
       "\n",
       "    .dataframe tbody tr th {\n",
       "        vertical-align: top;\n",
       "    }\n",
       "\n",
       "    .dataframe thead th {\n",
       "        text-align: right;\n",
       "    }\n",
       "</style>\n",
       "<table border=\"1\" class=\"dataframe\">\n",
       "  <thead>\n",
       "    <tr style=\"text-align: right;\">\n",
       "      <th></th>\n",
       "      <th>Label</th>\n",
       "      <th>Text</th>\n",
       "      <th>Sentences</th>\n",
       "      <th>Words</th>\n",
       "      <th>Stemmed_words</th>\n",
       "      <th>Lemmatized_Words</th>\n",
       "      <th>Stop_Words_L</th>\n",
       "      <th>Processed_Text_L</th>\n",
       "    </tr>\n",
       "  </thead>\n",
       "  <tbody>\n",
       "    <tr>\n",
       "      <th>0</th>\n",
       "      <td>0</td>\n",
       "      <td>go until jurong point crazy available only in ...</td>\n",
       "      <td>[go until jurong point crazy available only in...</td>\n",
       "      <td>[go, until, jurong, point, crazy, available, o...</td>\n",
       "      <td>[go, until, jurong, point, crazi, avail, onli,...</td>\n",
       "      <td>[go, until, jurong, point, crazy, available, o...</td>\n",
       "      <td>[go, jurong, point, crazy, available, bugis, n...</td>\n",
       "      <td>go jurong point crazy available bugis n great ...</td>\n",
       "    </tr>\n",
       "    <tr>\n",
       "      <th>1</th>\n",
       "      <td>0</td>\n",
       "      <td>ok lar joking wif you oni</td>\n",
       "      <td>[ok lar joking wif you oni]</td>\n",
       "      <td>[ok, lar, joking, wif, you, oni]</td>\n",
       "      <td>[ok, lar, joke, wif, you, oni]</td>\n",
       "      <td>[ok, lar, joking, wif, you, oni]</td>\n",
       "      <td>[ok, lar, joking, wif, oni]</td>\n",
       "      <td>ok lar joking wif oni</td>\n",
       "    </tr>\n",
       "    <tr>\n",
       "      <th>2</th>\n",
       "      <td>1</td>\n",
       "      <td>free entry in  a wkly comp to win fa cup final...</td>\n",
       "      <td>[free entry in  a wkly comp to win fa cup fina...</td>\n",
       "      <td>[free, entry, in, a, wkly, comp, to, win, fa, ...</td>\n",
       "      <td>[free, entri, in, a, wkli, comp, to, win, fa, ...</td>\n",
       "      <td>[free, entry, in, a, wkly, comp, to, win, fa, ...</td>\n",
       "      <td>[free, entry, wkly, comp, win, fa, cup, final,...</td>\n",
       "      <td>free entry wkly comp win fa cup final tkts st ...</td>\n",
       "    </tr>\n",
       "    <tr>\n",
       "      <th>3</th>\n",
       "      <td>0</td>\n",
       "      <td>you dun say so early hor you c already then say</td>\n",
       "      <td>[you dun say so early hor you c already then say]</td>\n",
       "      <td>[you, dun, say, so, early, hor, you, c, alread...</td>\n",
       "      <td>[you, dun, say, so, earli, hor, you, c, alread...</td>\n",
       "      <td>[you, dun, say, so, early, hor, you, c, alread...</td>\n",
       "      <td>[dun, say, early, hor, c, already, say]</td>\n",
       "      <td>dun say early hor c already say</td>\n",
       "    </tr>\n",
       "    <tr>\n",
       "      <th>4</th>\n",
       "      <td>0</td>\n",
       "      <td>nah i do not think he goes to usf he lives aro...</td>\n",
       "      <td>[nah i do not think he goes to usf he lives ar...</td>\n",
       "      <td>[nah, i, do, not, think, he, goes, to, usf, he...</td>\n",
       "      <td>[nah, i, do, not, think, he, goe, to, usf, he,...</td>\n",
       "      <td>[nah, i, do, not, think, he, go, to, usf, he, ...</td>\n",
       "      <td>[nah, think, go, usf, life, around, though]</td>\n",
       "      <td>nah think go usf life around though</td>\n",
       "    </tr>\n",
       "    <tr>\n",
       "      <th>...</th>\n",
       "      <td>...</td>\n",
       "      <td>...</td>\n",
       "      <td>...</td>\n",
       "      <td>...</td>\n",
       "      <td>...</td>\n",
       "      <td>...</td>\n",
       "      <td>...</td>\n",
       "      <td>...</td>\n",
       "    </tr>\n",
       "    <tr>\n",
       "      <th>5567</th>\n",
       "      <td>1</td>\n",
       "      <td>this is the nd time we have tried  contact you...</td>\n",
       "      <td>[this is the nd time we have tried  contact yo...</td>\n",
       "      <td>[this, is, the, nd, time, we, have, tried, con...</td>\n",
       "      <td>[thi, is, the, nd, time, we, have, tri, contac...</td>\n",
       "      <td>[this, is, the, nd, time, we, have, tried, con...</td>\n",
       "      <td>[nd, time, tried, contact, å, pound, prize, cl...</td>\n",
       "      <td>nd time tried contact å pound prize claim easy...</td>\n",
       "    </tr>\n",
       "    <tr>\n",
       "      <th>5568</th>\n",
       "      <td>0</td>\n",
       "      <td>will ì_ b going to esplanade fr home</td>\n",
       "      <td>[will ì_ b going to esplanade fr home]</td>\n",
       "      <td>[will, ì_, b, going, to, esplanade, fr, home]</td>\n",
       "      <td>[will, ì_, b, go, to, esplanad, fr, home]</td>\n",
       "      <td>[will, ì_, b, going, to, esplanade, fr, home]</td>\n",
       "      <td>[ì_, b, going, esplanade, fr, home]</td>\n",
       "      <td>ì_ b going esplanade fr home</td>\n",
       "    </tr>\n",
       "    <tr>\n",
       "      <th>5569</th>\n",
       "      <td>0</td>\n",
       "      <td>pity  was in mood for that soany other suggest...</td>\n",
       "      <td>[pity  was in mood for that soany other sugges...</td>\n",
       "      <td>[pity, was, in, mood, for, that, soany, other,...</td>\n",
       "      <td>[piti, wa, in, mood, for, that, soani, other, ...</td>\n",
       "      <td>[pity, wa, in, mood, for, that, soany, other, ...</td>\n",
       "      <td>[pity, wa, mood, soany, suggestion]</td>\n",
       "      <td>pity wa mood soany suggestion</td>\n",
       "    </tr>\n",
       "    <tr>\n",
       "      <th>5570</th>\n",
       "      <td>0</td>\n",
       "      <td>the guy did some bitching but i acted like id ...</td>\n",
       "      <td>[the guy did some bitching but i acted like id...</td>\n",
       "      <td>[the, guy, did, some, bitching, but, i, acted,...</td>\n",
       "      <td>[the, guy, did, some, bitch, but, i, act, like...</td>\n",
       "      <td>[the, guy, did, some, bitching, but, i, acted,...</td>\n",
       "      <td>[guy, bitching, acted, like, id, interested, b...</td>\n",
       "      <td>guy bitching acted like id interested buying s...</td>\n",
       "    </tr>\n",
       "    <tr>\n",
       "      <th>5571</th>\n",
       "      <td>0</td>\n",
       "      <td>rofl its true to its name</td>\n",
       "      <td>[rofl its true to its name]</td>\n",
       "      <td>[rofl, its, true, to, its, name]</td>\n",
       "      <td>[rofl, it, true, to, it, name]</td>\n",
       "      <td>[rofl, it, true, to, it, name]</td>\n",
       "      <td>[rofl, true, name]</td>\n",
       "      <td>rofl true name</td>\n",
       "    </tr>\n",
       "  </tbody>\n",
       "</table>\n",
       "<p>5169 rows × 8 columns</p>\n",
       "</div>"
      ],
      "text/plain": [
       "     Label                                               Text  \\\n",
       "0        0  go until jurong point crazy available only in ...   \n",
       "1        0                          ok lar joking wif you oni   \n",
       "2        1  free entry in  a wkly comp to win fa cup final...   \n",
       "3        0    you dun say so early hor you c already then say   \n",
       "4        0  nah i do not think he goes to usf he lives aro...   \n",
       "...    ...                                                ...   \n",
       "5567     1  this is the nd time we have tried  contact you...   \n",
       "5568     0               will ì_ b going to esplanade fr home   \n",
       "5569     0  pity  was in mood for that soany other suggest...   \n",
       "5570     0  the guy did some bitching but i acted like id ...   \n",
       "5571     0                          rofl its true to its name   \n",
       "\n",
       "                                              Sentences  \\\n",
       "0     [go until jurong point crazy available only in...   \n",
       "1                           [ok lar joking wif you oni]   \n",
       "2     [free entry in  a wkly comp to win fa cup fina...   \n",
       "3     [you dun say so early hor you c already then say]   \n",
       "4     [nah i do not think he goes to usf he lives ar...   \n",
       "...                                                 ...   \n",
       "5567  [this is the nd time we have tried  contact yo...   \n",
       "5568             [will ì_ b going to esplanade fr home]   \n",
       "5569  [pity  was in mood for that soany other sugges...   \n",
       "5570  [the guy did some bitching but i acted like id...   \n",
       "5571                        [rofl its true to its name]   \n",
       "\n",
       "                                                  Words  \\\n",
       "0     [go, until, jurong, point, crazy, available, o...   \n",
       "1                      [ok, lar, joking, wif, you, oni]   \n",
       "2     [free, entry, in, a, wkly, comp, to, win, fa, ...   \n",
       "3     [you, dun, say, so, early, hor, you, c, alread...   \n",
       "4     [nah, i, do, not, think, he, goes, to, usf, he...   \n",
       "...                                                 ...   \n",
       "5567  [this, is, the, nd, time, we, have, tried, con...   \n",
       "5568      [will, ì_, b, going, to, esplanade, fr, home]   \n",
       "5569  [pity, was, in, mood, for, that, soany, other,...   \n",
       "5570  [the, guy, did, some, bitching, but, i, acted,...   \n",
       "5571                   [rofl, its, true, to, its, name]   \n",
       "\n",
       "                                          Stemmed_words  \\\n",
       "0     [go, until, jurong, point, crazi, avail, onli,...   \n",
       "1                        [ok, lar, joke, wif, you, oni]   \n",
       "2     [free, entri, in, a, wkli, comp, to, win, fa, ...   \n",
       "3     [you, dun, say, so, earli, hor, you, c, alread...   \n",
       "4     [nah, i, do, not, think, he, goe, to, usf, he,...   \n",
       "...                                                 ...   \n",
       "5567  [thi, is, the, nd, time, we, have, tri, contac...   \n",
       "5568          [will, ì_, b, go, to, esplanad, fr, home]   \n",
       "5569  [piti, wa, in, mood, for, that, soani, other, ...   \n",
       "5570  [the, guy, did, some, bitch, but, i, act, like...   \n",
       "5571                     [rofl, it, true, to, it, name]   \n",
       "\n",
       "                                       Lemmatized_Words  \\\n",
       "0     [go, until, jurong, point, crazy, available, o...   \n",
       "1                      [ok, lar, joking, wif, you, oni]   \n",
       "2     [free, entry, in, a, wkly, comp, to, win, fa, ...   \n",
       "3     [you, dun, say, so, early, hor, you, c, alread...   \n",
       "4     [nah, i, do, not, think, he, go, to, usf, he, ...   \n",
       "...                                                 ...   \n",
       "5567  [this, is, the, nd, time, we, have, tried, con...   \n",
       "5568      [will, ì_, b, going, to, esplanade, fr, home]   \n",
       "5569  [pity, wa, in, mood, for, that, soany, other, ...   \n",
       "5570  [the, guy, did, some, bitching, but, i, acted,...   \n",
       "5571                     [rofl, it, true, to, it, name]   \n",
       "\n",
       "                                           Stop_Words_L  \\\n",
       "0     [go, jurong, point, crazy, available, bugis, n...   \n",
       "1                           [ok, lar, joking, wif, oni]   \n",
       "2     [free, entry, wkly, comp, win, fa, cup, final,...   \n",
       "3               [dun, say, early, hor, c, already, say]   \n",
       "4           [nah, think, go, usf, life, around, though]   \n",
       "...                                                 ...   \n",
       "5567  [nd, time, tried, contact, å, pound, prize, cl...   \n",
       "5568                [ì_, b, going, esplanade, fr, home]   \n",
       "5569                [pity, wa, mood, soany, suggestion]   \n",
       "5570  [guy, bitching, acted, like, id, interested, b...   \n",
       "5571                                 [rofl, true, name]   \n",
       "\n",
       "                                       Processed_Text_L  \n",
       "0     go jurong point crazy available bugis n great ...  \n",
       "1                                 ok lar joking wif oni  \n",
       "2     free entry wkly comp win fa cup final tkts st ...  \n",
       "3                       dun say early hor c already say  \n",
       "4                   nah think go usf life around though  \n",
       "...                                                 ...  \n",
       "5567  nd time tried contact å pound prize claim easy...  \n",
       "5568                       ì_ b going esplanade fr home  \n",
       "5569                      pity wa mood soany suggestion  \n",
       "5570  guy bitching acted like id interested buying s...  \n",
       "5571                                     rofl true name  \n",
       "\n",
       "[5169 rows x 8 columns]"
      ]
     },
     "execution_count": 46,
     "metadata": {},
     "output_type": "execute_result"
    }
   ],
   "source": [
    "df.loc[:, 'Processed_Text_L'] = df['Stop_Words_L'].apply(lambda x: ' '.join(x))\n",
    "# Now, 'Processed_Text_L' contains processed text suitable for TF-IDF vectorization\n",
    "df"
   ]
  },
  {
   "cell_type": "markdown",
   "id": "616e904d",
   "metadata": {},
   "source": [
    "## 4. Feature Engineering"
   ]
  },
  {
   "cell_type": "markdown",
   "id": "e3e7b1a9",
   "metadata": {},
   "source": [
    "### 4.1 Stratify Splitting"
   ]
  },
  {
   "cell_type": "markdown",
   "id": "e72dabed",
   "metadata": {},
   "source": [
    "As we mentioned above, This dataset is imbalanced for this reason I want to split my dataset with similar proportion of 'spam' and 'ham' messages. We will use stratify splitting based on the target value which is 'Label' to divide my dataset before doing feature extraction."
   ]
  },
  {
   "cell_type": "code",
   "execution_count": 47,
   "id": "65f21421",
   "metadata": {
    "scrolled": true
   },
   "outputs": [
    {
     "name": "stdout",
     "output_type": "stream",
     "text": [
      "Training set size: (3618, 7)\n",
      "Test set size: (1551, 7)\n"
     ]
    }
   ],
   "source": [
    "# Define the target variable (y) and the features matrix (X)\n",
    "X = df.drop(columns=['Label'])  # Use all the data except for the target column as the features matrix\n",
    "y = df['Label']  # Target column\n",
    "\n",
    "# Stratified split of the dataset into training and test sets\n",
    "X_train, X_test, y_train, y_test = train_test_split(X, y, test_size=0.3, random_state=42, stratify=y)\n",
    "\n",
    "# Check the sizes of the training and test sets\n",
    "print(\"Training set size:\", X_train.shape)\n",
    "print(\"Test set size:\", X_test.shape)"
   ]
  },
  {
   "cell_type": "code",
   "execution_count": 48,
   "id": "00caa87e",
   "metadata": {},
   "outputs": [],
   "source": [
    "y_train = y_train.astype(int)\n",
    "y_test = y_test.astype(int)"
   ]
  },
  {
   "cell_type": "code",
   "execution_count": 49,
   "id": "bfe0ef2d",
   "metadata": {},
   "outputs": [],
   "source": [
    "# Creating separate dataset for train and test set.\n",
    "df_train = pd.concat([X_train, y_train], axis=1)\n",
    "df_test = pd.concat([X_test, y_test], axis = 1)"
   ]
  },
  {
   "cell_type": "code",
   "execution_count": 50,
   "id": "e681f483",
   "metadata": {},
   "outputs": [
    {
     "data": {
      "text/plain": [
       "Label\n",
       "0    3161\n",
       "1     457\n",
       "Name: count, dtype: int64"
      ]
     },
     "execution_count": 50,
     "metadata": {},
     "output_type": "execute_result"
    }
   ],
   "source": [
    "#Checking the ratio after Straty Splitting:\n",
    "count_train = df_train['Label'].value_counts()\n",
    "count_train"
   ]
  },
  {
   "cell_type": "code",
   "execution_count": 51,
   "id": "8bea39e1",
   "metadata": {},
   "outputs": [
    {
     "data": {
      "text/plain": [
       "Label\n",
       "0    1355\n",
       "1     196\n",
       "Name: count, dtype: int64"
      ]
     },
     "execution_count": 51,
     "metadata": {},
     "output_type": "execute_result"
    }
   ],
   "source": [
    "count_test = df_test['Label'].value_counts()\n",
    "count_test "
   ]
  },
  {
   "cell_type": "markdown",
   "id": "d3e4aab2",
   "metadata": {},
   "source": [
    "Proportion of spam massages are nearly same. This is good for the future machine learning modelling process. Let's do feature extracting based on lemmatized and stop word removed words."
   ]
  },
  {
   "cell_type": "markdown",
   "id": "58a29ade",
   "metadata": {},
   "source": [
    "### 4.2 N-grams"
   ]
  },
  {
   "cell_type": "markdown",
   "id": "d495f472",
   "metadata": {},
   "source": [
    "Firstly we will create a N-gram forms."
   ]
  },
  {
   "cell_type": "code",
   "execution_count": 52,
   "id": "412302f0",
   "metadata": {
    "scrolled": true
   },
   "outputs": [
    {
     "data": {
      "text/html": [
       "<div>\n",
       "<style scoped>\n",
       "    .dataframe tbody tr th:only-of-type {\n",
       "        vertical-align: middle;\n",
       "    }\n",
       "\n",
       "    .dataframe tbody tr th {\n",
       "        vertical-align: top;\n",
       "    }\n",
       "\n",
       "    .dataframe thead th {\n",
       "        text-align: right;\n",
       "    }\n",
       "</style>\n",
       "<table border=\"1\" class=\"dataframe\">\n",
       "  <thead>\n",
       "    <tr style=\"text-align: right;\">\n",
       "      <th></th>\n",
       "      <th>Label</th>\n",
       "      <th>Text</th>\n",
       "      <th>Sentences</th>\n",
       "      <th>Words</th>\n",
       "      <th>Stemmed_words</th>\n",
       "      <th>Lemmatized_Words</th>\n",
       "      <th>Stop_Words_L</th>\n",
       "      <th>Processed_Text_L</th>\n",
       "    </tr>\n",
       "  </thead>\n",
       "  <tbody>\n",
       "    <tr>\n",
       "      <th>0</th>\n",
       "      <td>0</td>\n",
       "      <td>go until jurong point crazy available only in ...</td>\n",
       "      <td>[go until jurong point crazy available only in...</td>\n",
       "      <td>[go, until, jurong, point, crazy, available, o...</td>\n",
       "      <td>[go, until, jurong, point, crazi, avail, onli,...</td>\n",
       "      <td>[go, until, jurong, point, crazy, available, o...</td>\n",
       "      <td>[go, jurong, point, crazy, available, bugis, n...</td>\n",
       "      <td>go jurong point crazy available bugis n great ...</td>\n",
       "    </tr>\n",
       "    <tr>\n",
       "      <th>1</th>\n",
       "      <td>0</td>\n",
       "      <td>ok lar joking wif you oni</td>\n",
       "      <td>[ok lar joking wif you oni]</td>\n",
       "      <td>[ok, lar, joking, wif, you, oni]</td>\n",
       "      <td>[ok, lar, joke, wif, you, oni]</td>\n",
       "      <td>[ok, lar, joking, wif, you, oni]</td>\n",
       "      <td>[ok, lar, joking, wif, oni]</td>\n",
       "      <td>ok lar joking wif oni</td>\n",
       "    </tr>\n",
       "    <tr>\n",
       "      <th>2</th>\n",
       "      <td>1</td>\n",
       "      <td>free entry in  a wkly comp to win fa cup final...</td>\n",
       "      <td>[free entry in  a wkly comp to win fa cup fina...</td>\n",
       "      <td>[free, entry, in, a, wkly, comp, to, win, fa, ...</td>\n",
       "      <td>[free, entri, in, a, wkli, comp, to, win, fa, ...</td>\n",
       "      <td>[free, entry, in, a, wkly, comp, to, win, fa, ...</td>\n",
       "      <td>[free, entry, wkly, comp, win, fa, cup, final,...</td>\n",
       "      <td>free entry wkly comp win fa cup final tkts st ...</td>\n",
       "    </tr>\n",
       "    <tr>\n",
       "      <th>3</th>\n",
       "      <td>0</td>\n",
       "      <td>you dun say so early hor you c already then say</td>\n",
       "      <td>[you dun say so early hor you c already then say]</td>\n",
       "      <td>[you, dun, say, so, early, hor, you, c, alread...</td>\n",
       "      <td>[you, dun, say, so, earli, hor, you, c, alread...</td>\n",
       "      <td>[you, dun, say, so, early, hor, you, c, alread...</td>\n",
       "      <td>[dun, say, early, hor, c, already, say]</td>\n",
       "      <td>dun say early hor c already say</td>\n",
       "    </tr>\n",
       "    <tr>\n",
       "      <th>4</th>\n",
       "      <td>0</td>\n",
       "      <td>nah i do not think he goes to usf he lives aro...</td>\n",
       "      <td>[nah i do not think he goes to usf he lives ar...</td>\n",
       "      <td>[nah, i, do, not, think, he, goes, to, usf, he...</td>\n",
       "      <td>[nah, i, do, not, think, he, goe, to, usf, he,...</td>\n",
       "      <td>[nah, i, do, not, think, he, go, to, usf, he, ...</td>\n",
       "      <td>[nah, think, go, usf, life, around, though]</td>\n",
       "      <td>nah think go usf life around though</td>\n",
       "    </tr>\n",
       "    <tr>\n",
       "      <th>...</th>\n",
       "      <td>...</td>\n",
       "      <td>...</td>\n",
       "      <td>...</td>\n",
       "      <td>...</td>\n",
       "      <td>...</td>\n",
       "      <td>...</td>\n",
       "      <td>...</td>\n",
       "      <td>...</td>\n",
       "    </tr>\n",
       "    <tr>\n",
       "      <th>5567</th>\n",
       "      <td>1</td>\n",
       "      <td>this is the nd time we have tried  contact you...</td>\n",
       "      <td>[this is the nd time we have tried  contact yo...</td>\n",
       "      <td>[this, is, the, nd, time, we, have, tried, con...</td>\n",
       "      <td>[thi, is, the, nd, time, we, have, tri, contac...</td>\n",
       "      <td>[this, is, the, nd, time, we, have, tried, con...</td>\n",
       "      <td>[nd, time, tried, contact, å, pound, prize, cl...</td>\n",
       "      <td>nd time tried contact å pound prize claim easy...</td>\n",
       "    </tr>\n",
       "    <tr>\n",
       "      <th>5568</th>\n",
       "      <td>0</td>\n",
       "      <td>will ì_ b going to esplanade fr home</td>\n",
       "      <td>[will ì_ b going to esplanade fr home]</td>\n",
       "      <td>[will, ì_, b, going, to, esplanade, fr, home]</td>\n",
       "      <td>[will, ì_, b, go, to, esplanad, fr, home]</td>\n",
       "      <td>[will, ì_, b, going, to, esplanade, fr, home]</td>\n",
       "      <td>[ì_, b, going, esplanade, fr, home]</td>\n",
       "      <td>ì_ b going esplanade fr home</td>\n",
       "    </tr>\n",
       "    <tr>\n",
       "      <th>5569</th>\n",
       "      <td>0</td>\n",
       "      <td>pity  was in mood for that soany other suggest...</td>\n",
       "      <td>[pity  was in mood for that soany other sugges...</td>\n",
       "      <td>[pity, was, in, mood, for, that, soany, other,...</td>\n",
       "      <td>[piti, wa, in, mood, for, that, soani, other, ...</td>\n",
       "      <td>[pity, wa, in, mood, for, that, soany, other, ...</td>\n",
       "      <td>[pity, wa, mood, soany, suggestion]</td>\n",
       "      <td>pity wa mood soany suggestion</td>\n",
       "    </tr>\n",
       "    <tr>\n",
       "      <th>5570</th>\n",
       "      <td>0</td>\n",
       "      <td>the guy did some bitching but i acted like id ...</td>\n",
       "      <td>[the guy did some bitching but i acted like id...</td>\n",
       "      <td>[the, guy, did, some, bitching, but, i, acted,...</td>\n",
       "      <td>[the, guy, did, some, bitch, but, i, act, like...</td>\n",
       "      <td>[the, guy, did, some, bitching, but, i, acted,...</td>\n",
       "      <td>[guy, bitching, acted, like, id, interested, b...</td>\n",
       "      <td>guy bitching acted like id interested buying s...</td>\n",
       "    </tr>\n",
       "    <tr>\n",
       "      <th>5571</th>\n",
       "      <td>0</td>\n",
       "      <td>rofl its true to its name</td>\n",
       "      <td>[rofl its true to its name]</td>\n",
       "      <td>[rofl, its, true, to, its, name]</td>\n",
       "      <td>[rofl, it, true, to, it, name]</td>\n",
       "      <td>[rofl, it, true, to, it, name]</td>\n",
       "      <td>[rofl, true, name]</td>\n",
       "      <td>rofl true name</td>\n",
       "    </tr>\n",
       "  </tbody>\n",
       "</table>\n",
       "<p>5169 rows × 8 columns</p>\n",
       "</div>"
      ],
      "text/plain": [
       "     Label                                               Text  \\\n",
       "0        0  go until jurong point crazy available only in ...   \n",
       "1        0                          ok lar joking wif you oni   \n",
       "2        1  free entry in  a wkly comp to win fa cup final...   \n",
       "3        0    you dun say so early hor you c already then say   \n",
       "4        0  nah i do not think he goes to usf he lives aro...   \n",
       "...    ...                                                ...   \n",
       "5567     1  this is the nd time we have tried  contact you...   \n",
       "5568     0               will ì_ b going to esplanade fr home   \n",
       "5569     0  pity  was in mood for that soany other suggest...   \n",
       "5570     0  the guy did some bitching but i acted like id ...   \n",
       "5571     0                          rofl its true to its name   \n",
       "\n",
       "                                              Sentences  \\\n",
       "0     [go until jurong point crazy available only in...   \n",
       "1                           [ok lar joking wif you oni]   \n",
       "2     [free entry in  a wkly comp to win fa cup fina...   \n",
       "3     [you dun say so early hor you c already then say]   \n",
       "4     [nah i do not think he goes to usf he lives ar...   \n",
       "...                                                 ...   \n",
       "5567  [this is the nd time we have tried  contact yo...   \n",
       "5568             [will ì_ b going to esplanade fr home]   \n",
       "5569  [pity  was in mood for that soany other sugges...   \n",
       "5570  [the guy did some bitching but i acted like id...   \n",
       "5571                        [rofl its true to its name]   \n",
       "\n",
       "                                                  Words  \\\n",
       "0     [go, until, jurong, point, crazy, available, o...   \n",
       "1                      [ok, lar, joking, wif, you, oni]   \n",
       "2     [free, entry, in, a, wkly, comp, to, win, fa, ...   \n",
       "3     [you, dun, say, so, early, hor, you, c, alread...   \n",
       "4     [nah, i, do, not, think, he, goes, to, usf, he...   \n",
       "...                                                 ...   \n",
       "5567  [this, is, the, nd, time, we, have, tried, con...   \n",
       "5568      [will, ì_, b, going, to, esplanade, fr, home]   \n",
       "5569  [pity, was, in, mood, for, that, soany, other,...   \n",
       "5570  [the, guy, did, some, bitching, but, i, acted,...   \n",
       "5571                   [rofl, its, true, to, its, name]   \n",
       "\n",
       "                                          Stemmed_words  \\\n",
       "0     [go, until, jurong, point, crazi, avail, onli,...   \n",
       "1                        [ok, lar, joke, wif, you, oni]   \n",
       "2     [free, entri, in, a, wkli, comp, to, win, fa, ...   \n",
       "3     [you, dun, say, so, earli, hor, you, c, alread...   \n",
       "4     [nah, i, do, not, think, he, goe, to, usf, he,...   \n",
       "...                                                 ...   \n",
       "5567  [thi, is, the, nd, time, we, have, tri, contac...   \n",
       "5568          [will, ì_, b, go, to, esplanad, fr, home]   \n",
       "5569  [piti, wa, in, mood, for, that, soani, other, ...   \n",
       "5570  [the, guy, did, some, bitch, but, i, act, like...   \n",
       "5571                     [rofl, it, true, to, it, name]   \n",
       "\n",
       "                                       Lemmatized_Words  \\\n",
       "0     [go, until, jurong, point, crazy, available, o...   \n",
       "1                      [ok, lar, joking, wif, you, oni]   \n",
       "2     [free, entry, in, a, wkly, comp, to, win, fa, ...   \n",
       "3     [you, dun, say, so, early, hor, you, c, alread...   \n",
       "4     [nah, i, do, not, think, he, go, to, usf, he, ...   \n",
       "...                                                 ...   \n",
       "5567  [this, is, the, nd, time, we, have, tried, con...   \n",
       "5568      [will, ì_, b, going, to, esplanade, fr, home]   \n",
       "5569  [pity, wa, in, mood, for, that, soany, other, ...   \n",
       "5570  [the, guy, did, some, bitching, but, i, acted,...   \n",
       "5571                     [rofl, it, true, to, it, name]   \n",
       "\n",
       "                                           Stop_Words_L  \\\n",
       "0     [go, jurong, point, crazy, available, bugis, n...   \n",
       "1                           [ok, lar, joking, wif, oni]   \n",
       "2     [free, entry, wkly, comp, win, fa, cup, final,...   \n",
       "3               [dun, say, early, hor, c, already, say]   \n",
       "4           [nah, think, go, usf, life, around, though]   \n",
       "...                                                 ...   \n",
       "5567  [nd, time, tried, contact, å, pound, prize, cl...   \n",
       "5568                [ì_, b, going, esplanade, fr, home]   \n",
       "5569                [pity, wa, mood, soany, suggestion]   \n",
       "5570  [guy, bitching, acted, like, id, interested, b...   \n",
       "5571                                 [rofl, true, name]   \n",
       "\n",
       "                                       Processed_Text_L  \n",
       "0     go jurong point crazy available bugis n great ...  \n",
       "1                                 ok lar joking wif oni  \n",
       "2     free entry wkly comp win fa cup final tkts st ...  \n",
       "3                       dun say early hor c already say  \n",
       "4                   nah think go usf life around though  \n",
       "...                                                 ...  \n",
       "5567  nd time tried contact å pound prize claim easy...  \n",
       "5568                       ì_ b going esplanade fr home  \n",
       "5569                      pity wa mood soany suggestion  \n",
       "5570  guy bitching acted like id interested buying s...  \n",
       "5571                                     rofl true name  \n",
       "\n",
       "[5169 rows x 8 columns]"
      ]
     },
     "execution_count": 52,
     "metadata": {},
     "output_type": "execute_result"
    }
   ],
   "source": [
    "# Function to generate n-grams from a list of words\n",
    "def generate_ngrams(word_list, n=5):\n",
    "    return list(ngrams(word_list, n))\n",
    "\n",
    "# Apply the function to your column (e.g., 'Words' after preprocessing)\n",
    "df_train.loc[:, 'Bigrams'] = df_train['Stop_Words_L'].apply(lambda x: generate_ngrams(x, 2))\n",
    "df"
   ]
  },
  {
   "cell_type": "markdown",
   "id": "2aee3522",
   "metadata": {},
   "source": [
    "### 4.3 TF-IDF"
   ]
  },
  {
   "cell_type": "code",
   "execution_count": 53,
   "id": "402032c9",
   "metadata": {
    "scrolled": false
   },
   "outputs": [],
   "source": [
    "# First, compute the document-term frequency matrix using CountVectorizer\n",
    "count_vect = CountVectorizer()\n",
    "X_train_counts = count_vect.fit_transform(df_train['Processed_Text_L'])\n",
    "\n",
    "# Converting to TF-IDF scores using TfidfTransformer\n",
    "tfidf_transformer = TfidfTransformer()\n",
    "X_train_tfidf = tfidf_transformer.fit_transform(X_train_counts)"
   ]
  },
  {
   "cell_type": "code",
   "execution_count": 54,
   "id": "bdf11ac2",
   "metadata": {},
   "outputs": [
    {
     "data": {
      "text/plain": [
       "(3618, 6231)"
      ]
     },
     "execution_count": 54,
     "metadata": {},
     "output_type": "execute_result"
    }
   ],
   "source": [
    "X_train_counts.shape"
   ]
  },
  {
   "cell_type": "code",
   "execution_count": 55,
   "id": "c14762ec",
   "metadata": {},
   "outputs": [
    {
     "data": {
      "text/plain": [
       "array([[0, 0, 0, ..., 0, 0, 0],\n",
       "       [0, 0, 0, ..., 0, 0, 0],\n",
       "       [0, 0, 0, ..., 0, 0, 0],\n",
       "       ...,\n",
       "       [0, 0, 0, ..., 0, 0, 0],\n",
       "       [0, 0, 0, ..., 0, 0, 0],\n",
       "       [0, 0, 0, ..., 0, 0, 0]])"
      ]
     },
     "execution_count": 55,
     "metadata": {},
     "output_type": "execute_result"
    }
   ],
   "source": [
    "X_train_counts.toarray()"
   ]
  },
  {
   "cell_type": "code",
   "execution_count": 56,
   "id": "61ecd960",
   "metadata": {},
   "outputs": [],
   "source": [
    "#Transforming the test set\n",
    "X_test_counts = count_vect.transform(df_test['Processed_Text_L'])\n",
    "\n",
    "# Then, converting these counts to TF-IDF scores using the trained TfidfTransformer\n",
    "X_test_tfidf = tfidf_transformer.transform(X_test_counts)\n"
   ]
  },
  {
   "cell_type": "markdown",
   "id": "84bf3dc2",
   "metadata": {},
   "source": [
    "### 4.4 Bag of Words"
   ]
  },
  {
   "cell_type": "code",
   "execution_count": 57,
   "id": "d41b4b0c",
   "metadata": {},
   "outputs": [],
   "source": [
    "# Initialize the CountVectorizer\n",
    "vectorizer = CountVectorizer()\n",
    "\n",
    "# Apply the vectorizer to the 'Processed_Text_L' column of the training data to get the feature matrix\n",
    "X_train_bow = vectorizer.fit_transform(df_train['Processed_Text_L'])\n",
    "\n",
    "# Transform the 'Processed_Text_L' column of the test data into the same feature matrix\n",
    "X_test_bow = vectorizer.transform(df_test['Processed_Text_L'])"
   ]
  },
  {
   "cell_type": "markdown",
   "id": "0f9da9c7",
   "metadata": {},
   "source": [
    "## 5. Machine Learning Model Creations"
   ]
  },
  {
   "cell_type": "markdown",
   "id": "bfbf96c5",
   "metadata": {},
   "source": [
    "### 5.1 Multinomial Naive Bayes for TF-IDF"
   ]
  },
  {
   "cell_type": "code",
   "execution_count": 58,
   "id": "2c9db3a7",
   "metadata": {
    "scrolled": false
   },
   "outputs": [
    {
     "name": "stdout",
     "output_type": "stream",
     "text": [
      "Accuracy: 0.9568020631850419\n",
      "\n",
      "Classification Report:\n",
      "               precision    recall  f1-score   support\n",
      "\n",
      "           0       0.95      1.00      0.98      1355\n",
      "           1       0.99      0.66      0.80       196\n",
      "\n",
      "    accuracy                           0.96      1551\n",
      "   macro avg       0.97      0.83      0.89      1551\n",
      "weighted avg       0.96      0.96      0.95      1551\n",
      "\n"
     ]
    },
    {
     "data": {
      "image/png": "[encoded data removed]",
      "text/plain": [
       "<Figure size 500x400 with 2 Axes>"
      ]
     },
     "metadata": {},
     "output_type": "display_data"
    }
   ],
   "source": [
    "# Initializing and training the model on the training set\n",
    "model = MultinomialNB()\n",
    "model.fit(X_train_tfidf, y_train)\n",
    "\n",
    "# Making predictions on the test set\n",
    "predictions = model.predict(X_test_tfidf)\n",
    "\n",
    "# Evaluating the model's performance\n",
    "accuracy = accuracy_score(y_test, predictions)\n",
    "print(\"Accuracy:\", accuracy)\n",
    "print(\"\\nClassification Report:\\n\", classification_report(y_test, predictions))\n",
    "\n",
    "# Confusion matrix\n",
    "conf_matrix = confusion_matrix(y_test, predictions)\n",
    "plt.figure(figsize=(5, 4))\n",
    "sns.heatmap(conf_matrix, annot=True, fmt='d', cmap='Blues', xticklabels=['Negative', 'Positive'], yticklabels=['Negative', 'Positive'])\n",
    "plt.xlabel('Predicted Labels')\n",
    "plt.ylabel('True Labels')\n",
    "plt.title('Confusion Matrix for Multinomial Naive Bayes (TF-IDF)')\n",
    "plt.show()"
   ]
  },
  {
   "cell_type": "markdown",
   "id": "4d3d8fbd",
   "metadata": {},
   "source": [
    "* Accuracy: The model accurately predicts whether a message is spam or not 95.68% of the time across the entire test dataset.\n",
    "\n",
    "* Precision for Class 0 (Negative): When the model predicts a message is not spam (negative), it is correct 95% of the time.\n",
    "\n",
    "* Precision for Class 1 (Positive): When the model predicts a message is spam (positive), it is correct 99% of the time.\n",
    "\n",
    "* Recall for Class 0 (Negative): The model identified 100% of the actual non-spam messages correctly.\n",
    "\n",
    "* Recall for Class 1 (Positive): The model identified only 66% of the actual spam messages correctly.\n",
    "\n",
    "* F1-Score: The F1-score, which balances precision and recall, is very high for the non-spam predictions (0.98) and reasonably high for spam predictions (0.80).\n",
    "\n",
    "* Support: Indicates the number of actual occurrences of each class in the test set. There are 1355 non-spam messages and 196 spam messages.\n",
    "\n",
    "\n",
    "The Confusion Matrix provides a visual representation:\n",
    "\n",
    "* The model correctly classified 1354 non-spam messages (true negatives) and 130 spam messages (true positives).\n",
    "\n",
    "* It incorrectly classified 1 non-spam message as spam (false positive) and 66 spam messages as non-spam (false negatives).\n",
    "\n",
    "In summary, the model performs exceptionally well in identifying non-spam messages but struggles somewhat with spam messages, missing 66 of them. This suggests that while the model is very cautious not to flag genuine messages as spam (high precision), it allows some spam messages to go undetected (lower recall)."
   ]
  },
  {
   "cell_type": "markdown",
   "id": "c7fce989",
   "metadata": {},
   "source": [
    "#### 5.1.1 CV for Multinomial Naive Bayes (TF-IDF)"
   ]
  },
  {
   "cell_type": "code",
   "execution_count": 59,
   "id": "f2d6b6f0",
   "metadata": {
    "scrolled": false
   },
   "outputs": [
    {
     "name": "stdout",
     "output_type": "stream",
     "text": [
      "Accuracy Mean: 0.95, Std: 0.00\n",
      "Precision Mean: 1.00, Std: 0.00\n",
      "Recall Mean: 0.63, Std: 0.02\n",
      "F1 Mean: 0.77, Std: 0.01\n"
     ]
    }
   ],
   "source": [
    "# Defining the metrics that will be used to calculate scores\n",
    "scoring = {'accuracy': 'accuracy',\n",
    "           'precision': make_scorer(precision_score),\n",
    "           'recall': make_scorer(recall_score),\n",
    "           'f1': make_scorer(f1_score)}\n",
    "\n",
    "# Initialize the StratifiedKFold cross-validation object\n",
    "cv = StratifiedKFold(n_splits=5)\n",
    "\n",
    "# Apply cross-validation and calculate scores\n",
    "cv_results = cross_validate(model, X_train_tfidf, y_train, cv=cv, scoring=scoring)\n",
    "\n",
    "# Print the mean and standard deviation of the scores\n",
    "for metric in scoring.keys():\n",
    "    mean_score = np.mean(cv_results['test_' + metric])\n",
    "    std_score = np.std(cv_results['test_' + metric])\n",
    "    print(f\"{metric.capitalize()} Mean: {mean_score:.2f}, Std: {std_score:.2f}\")"
   ]
  },
  {
   "cell_type": "markdown",
   "id": "a9b78146",
   "metadata": {},
   "source": [
    "\n",
    "The cross-validation results for the spam detection model show that it has high accuracy and perfect precision but moderate recall. The model accurately classifies messages 95% of the time and is consistently correct whenever it predicts spam. However, it only identifies 63% of actual spam messages, indicating that some spam is missed. The F1 score is reasonably good at 0.77, suggesting a decent balance between precision and recall. Overall, the model is very reliable at not misclassifying non-spam as spam, but it needs improvement in detecting more spam messages without reducing the accuracy of non-spam predictions."
   ]
  },
  {
   "cell_type": "markdown",
   "id": "9f3b810d",
   "metadata": {},
   "source": [
    "#### 5.1.2 Leave-One-Out Cross-Validation (LOOCV) for Multinomial Naive Bayes (TF-IDF)"
   ]
  },
  {
   "cell_type": "code",
   "execution_count": 60,
   "id": "9511755f",
   "metadata": {
    "scrolled": true
   },
   "outputs": [
    {
     "name": "stdout",
     "output_type": "stream",
     "text": [
      "Accuracy Mean: 0.9616, Std: 0.1922\n",
      "Precision Mean: 0.0882, Std: 0.2835\n",
      "Recall Mean: 0.0882, Std: 0.2835\n",
      "F1_score Mean: 0.0882, Std: 0.2835\n"
     ]
    }
   ],
   "source": [
    "# Initialize the model\n",
    "model = MultinomialNB()\n",
    "\n",
    "# Defining cross-validation strategy\n",
    "loo = LeaveOneOut()\n",
    "\n",
    "# Defining scoring metrics\n",
    "scoring = {'accuracy': 'accuracy',\n",
    "           'precision': make_scorer(precision_score, average='binary', zero_division=0),\n",
    "           'recall': make_scorer(recall_score, average='binary', zero_division=0),\n",
    "           'f1_score': make_scorer(f1_score, average='binary', zero_division=0)}\n",
    "\n",
    "# Cross-validation and calculations\n",
    "cv_results = cross_validate(model, X_train_tfidf, y_train, cv=loo, scoring=scoring)\n",
    "\n",
    "# Print mean and standard deviation of scores\n",
    "for metric in scoring.keys():\n",
    "    mean_score = np.mean(cv_results['test_' + metric])\n",
    "    std_score = np.std(cv_results['test_' + metric])\n",
    "    print(f\"{metric.capitalize()} Mean: {mean_score:.4f}, Std: {std_score:.4f}\")\n"
   ]
  },
  {
   "cell_type": "markdown",
   "id": "7a8c4886",
   "metadata": {},
   "source": [
    "The Leave-One-Out Cross-Validation (LOOCV) results for the Multinomial Naive Bayes model on TF-IDF vectorized data show an average accuracy of about 96.16%. However, the precision, recall, and F1 score are all significantly lower at approximately 8.82%. This suggests the model rarely predicts spam (positive class) but is highly accurate for the non-spam (negative class). The low standard deviation in accuracy indicates consistent performance across folds, while the higher standard deviation for precision, recall, and F1 score points to variability in detecting the positive class."
   ]
  },
  {
   "cell_type": "markdown",
   "id": "19c47f06",
   "metadata": {},
   "source": [
    "### 5.2 Multinomial Naive Bayes for BoW"
   ]
  },
  {
   "cell_type": "code",
   "execution_count": 61,
   "id": "63dd6992",
   "metadata": {
    "scrolled": false
   },
   "outputs": [
    {
     "name": "stdout",
     "output_type": "stream",
     "text": [
      "Accuracy: 0.9774339136041263\n",
      "\n",
      "Classification Report:\n",
      "               precision    recall  f1-score   support\n",
      "\n",
      "           0       0.98      0.99      0.99      1355\n",
      "           1       0.94      0.87      0.91       196\n",
      "\n",
      "    accuracy                           0.98      1551\n",
      "   macro avg       0.96      0.93      0.95      1551\n",
      "weighted avg       0.98      0.98      0.98      1551\n",
      "\n"
     ]
    },
    {
     "data": {
      "image/png": "[encoded data removed]",
      "text/plain": [
       "<Figure size 500x400 with 2 Axes>"
      ]
     },
     "metadata": {},
     "output_type": "display_data"
    }
   ],
   "source": [
    "# Initializing and train the model on the training set\n",
    "model = MultinomialNB()\n",
    "model.fit(X_train_bow, y_train)\n",
    "\n",
    "# Making predictions on the test set\n",
    "predictions = model.predict(X_test_bow)\n",
    "\n",
    "# Evaluating the model's performance\n",
    "accuracy = accuracy_score(y_test, predictions)\n",
    "print(\"Accuracy:\", accuracy)\n",
    "print(\"\\nClassification Report:\\n\", classification_report(y_test, predictions))\n",
    "\n",
    "# Plotting the confusion matrix\n",
    "conf_matrix = confusion_matrix(y_test, predictions)\n",
    "plt.figure(figsize=(5, 4))\n",
    "sns.heatmap(conf_matrix, annot=True, fmt='d', cmap='Blues', xticklabels=['Negative', 'Positive'], yticklabels=['Negative', 'Positive'])\n",
    "plt.xlabel('Predicted Labels')\n",
    "plt.ylabel('True Labels')\n",
    "plt.title('Confusion Matrix for Multinomial Naive Bayes (BoW)')\n",
    "plt.show()"
   ]
  },
  {
   "cell_type": "markdown",
   "id": "db4f9b47",
   "metadata": {},
   "source": [
    "* Accuracy: This model has a similar high accuracy (97.74%), which is comparable to the previous TF-IDF based model.\n",
    "\n",
    "* Precision for Non-Spam (0): Remains high at 0.98, indicating that the model is very accurate in identifying non-spam messages.\n",
    "\n",
    "* Precision for Spam (1): At 0.94, it’s slightly lower than for non-spam, but still high, which is consistent with the earlier TF-IDF model results.\n",
    "\n",
    "* Recall for Non-Spam (0): At 0.99, the model almost perfectly identifies all non-spam messages, in line with the TF-IDF model’s performance.\n",
    "\n",
    "* Recall for Spam (1): There is an 87% recall for spam, which means the model correctly identifies 87% of the actual spam messages. This recall rate is important as it is a measure of the model’s ability to detect spam, and it shows a significant improvement compared to the TF-IDF model's spam recall rate.\n",
    "\n",
    "* F1-Score: The F1-score for non-spam is high at 0.99, and for spam, it is 0.91, indicating a good balance between precision and recall for both classes, with an overall improvement for spam detection compared to the previous model.\n",
    "\n",
    "\n",
    "The Confusion Matrix provides the following insights:\n",
    "\n",
    "* True Negatives (Non-Spam Correctly Classified): 1345\n",
    "* False Positives (Non-Spam Incorrectly Classified as Spam): 10\n",
    "* False Negatives (Spam Incorrectly Classified as Non-Spam): 25\n",
    "* True Positives (Spam Correctly Classified): 171\n",
    "\n",
    "Compared to the previous TF-IDF model, this model (assumed to be trained on a Bag of Words dataset) maintains high accuracy and precision but shows improvement in the recall for spam messages. This is evidenced by the lower number of False Negatives, meaning it misses fewer spam messages. The precision and F1-score for spam are also high, demonstrating this model’s enhanced capability to correctly classify spam messages without excessively mislabeling non-spam messages as spam."
   ]
  },
  {
   "cell_type": "markdown",
   "id": "d6da243e",
   "metadata": {},
   "source": [
    "#### 5.2.1 CV for Multinomial Naive Bayes (BoW)"
   ]
  },
  {
   "cell_type": "code",
   "execution_count": 62,
   "id": "3dd67942",
   "metadata": {},
   "outputs": [
    {
     "name": "stdout",
     "output_type": "stream",
     "text": [
      "Accuracy Mean: 0.96, Std: 0.01\n",
      "Precision Mean: 0.81, Std: 0.06\n",
      "Recall Mean: 0.92, Std: 0.03\n",
      "F1 Mean: 0.86, Std: 0.03\n"
     ]
    }
   ],
   "source": [
    "# Defining the metrics that will be used to calculate scores\n",
    "scoring = {'accuracy': 'accuracy',\n",
    "           'precision': make_scorer(precision_score),\n",
    "           'recall': make_scorer(recall_score),\n",
    "           'f1': make_scorer(f1_score)}\n",
    "\n",
    "# Initializing the StratifiedKFold cross-validation object\n",
    "cv = StratifiedKFold(n_splits=5)\n",
    "\n",
    "# Applying cross-validation and calculate scores\n",
    "cv_results = cross_validate(model, X_train_bow, y_train, cv=cv, scoring=scoring)\n",
    "\n",
    "# Printing the mean and standard deviation of the scores\n",
    "for metric in scoring.keys():\n",
    "    mean_score = np.mean(cv_results['test_' + metric])\n",
    "    std_score = np.std(cv_results['test_' + metric])\n",
    "    print(f\"{metric.capitalize()} Mean: {mean_score:.2f}, Std: {std_score:.2f}\")"
   ]
  },
  {
   "cell_type": "markdown",
   "id": "3038e82c",
   "metadata": {},
   "source": [
    "The Multinomial Naive Bayes model with Bag of Words achieves an average accuracy of 96% in cross-validation, with a high recall of 92%, indicating it is adept at identifying spam. However, precision is lower at 81%, suggesting some non-spam messages are misclassified as spam. The F1 score is solid at 86%, showing a good balance between precision and recall, although there's room for improvement in precision. Overall, the model is consistent across different validation folds."
   ]
  },
  {
   "cell_type": "markdown",
   "id": "6e030cd8",
   "metadata": {},
   "source": [
    "#### 5.2.2 Leave-One-Out Cross-Validation (LOOCV) for Multinomial Naive Bayes (BoW)"
   ]
  },
  {
   "cell_type": "code",
   "execution_count": 63,
   "id": "86034713",
   "metadata": {},
   "outputs": [
    {
     "name": "stdout",
     "output_type": "stream",
     "text": [
      "Accuracy Mean: 0.9602, Std: 0.1955\n",
      "Precision Mean: 0.1169, Std: 0.3213\n",
      "Recall Mean: 0.1169, Std: 0.3213\n",
      "F1_score Mean: 0.1169, Std: 0.3213\n"
     ]
    }
   ],
   "source": [
    "# Initializing the model\n",
    "model = MultinomialNB()\n",
    "\n",
    "# Defining cross-validation strategy\n",
    "loo = LeaveOneOut()\n",
    "\n",
    "# Defining scoring metrics\n",
    "scoring = {'accuracy': 'accuracy',\n",
    "           'precision': make_scorer(precision_score, average='binary', zero_division=0),\n",
    "           'recall': make_scorer(recall_score, average='binary', zero_division=0),\n",
    "           'f1_score': make_scorer(f1_score, average='binary', zero_division=0)}\n",
    "\n",
    "# Cross-validation and calculations\n",
    "cv_results = cross_validate(model, X_train_bow, y_train, cv=loo, scoring=scoring)\n",
    "\n",
    "# Print mean and standard deviation of scores\n",
    "for metric in scoring.keys():\n",
    "    mean_score = np.mean(cv_results['test_' + metric])\n",
    "    std_score = np.std(cv_results['test_' + metric])\n",
    "    print(f\"{metric.capitalize()} Mean: {mean_score:.4f}, Std: {std_score:.4f}\")"
   ]
  },
  {
   "cell_type": "markdown",
   "id": "ddf38375",
   "metadata": {},
   "source": [
    "The Leave-One-Out Cross-Validation (LOOCV) results for the Multinomial Naive Bayes model using the Bag of Words method indicate an accuracy of 96.02%. However, precision, recall, and F1 score are all notably low at 11.69%. The low precision and recall suggest the model is not effective at correctly identifying spam messages, with a significant amount of both false positives and false negatives. The consistency across cross-validation folds is also poor, shown by the high standard deviation (over 30%) for precision, recall, and F1 score. This model might require significant improvements or a different approach to effectively detect spam.\n",
    "\n",
    "\n",
    "\n",
    "\n",
    "\n",
    "\n"
   ]
  },
  {
   "cell_type": "markdown",
   "id": "9158b8be",
   "metadata": {},
   "source": [
    "### 5.3 Multilayer Perceptron for TF-IDF and BoW"
   ]
  },
  {
   "cell_type": "markdown",
   "id": "7b96a3d8",
   "metadata": {},
   "source": [
    "#### 5.3.1 MLP for TF-IDF"
   ]
  },
  {
   "cell_type": "code",
   "execution_count": 64,
   "id": "fa11da91",
   "metadata": {
    "scrolled": false
   },
   "outputs": [
    {
     "name": "stdout",
     "output_type": "stream",
     "text": [
      "Epoch 1/10\n"
     ]
    },
    {
     "name": "stderr",
     "output_type": "stream",
     "text": [
      "/Users/alperenunal/anaconda3/lib/python3.11/site-packages/keras/src/layers/core/dense.py:85: UserWarning: Do not pass an `input_shape`/`input_dim` argument to a layer. When using Sequential models, prefer using an `Input(shape)` object as the first layer in the model instead.\n",
      "  super().__init__(activity_regularizer=activity_regularizer, **kwargs)\n"
     ]
    },
    {
     "name": "stdout",
     "output_type": "stream",
     "text": [
      "\u001b[1m102/102\u001b[0m \u001b[32m━━━━━━━━━━━━━━━━━━━━\u001b[0m\u001b[37m\u001b[0m \u001b[1m0s\u001b[0m 2ms/step - accuracy: 0.8601 - loss: 0.5953 - val_accuracy: 0.9061 - val_loss: 0.3032\n",
      "Epoch 2/10\n",
      "\u001b[1m102/102\u001b[0m \u001b[32m━━━━━━━━━━━━━━━━━━━━\u001b[0m\u001b[37m\u001b[0m \u001b[1m0s\u001b[0m 2ms/step - accuracy: 0.9286 - loss: 0.2397 - val_accuracy: 0.9669 - val_loss: 0.1449\n",
      "Epoch 3/10\n",
      "\u001b[1m102/102\u001b[0m \u001b[32m━━━━━━━━━━━━━━━━━━━━\u001b[0m\u001b[37m\u001b[0m \u001b[1m0s\u001b[0m 2ms/step - accuracy: 0.9748 - loss: 0.1110 - val_accuracy: 0.9751 - val_loss: 0.1000\n",
      "Epoch 4/10\n",
      "\u001b[1m102/102\u001b[0m \u001b[32m━━━━━━━━━━━━━━━━━━━━\u001b[0m\u001b[37m\u001b[0m \u001b[1m0s\u001b[0m 2ms/step - accuracy: 0.9856 - loss: 0.0558 - val_accuracy: 0.9751 - val_loss: 0.0851\n",
      "Epoch 5/10\n",
      "\u001b[1m102/102\u001b[0m \u001b[32m━━━━━━━━━━━━━━━━━━━━\u001b[0m\u001b[37m\u001b[0m \u001b[1m0s\u001b[0m 2ms/step - accuracy: 0.9904 - loss: 0.0413 - val_accuracy: 0.9751 - val_loss: 0.0772\n",
      "Epoch 6/10\n",
      "\u001b[1m102/102\u001b[0m \u001b[32m━━━━━━━━━━━━━━━━━━━━\u001b[0m\u001b[37m\u001b[0m \u001b[1m0s\u001b[0m 2ms/step - accuracy: 0.9943 - loss: 0.0271 - val_accuracy: 0.9751 - val_loss: 0.0742\n",
      "Epoch 7/10\n",
      "\u001b[1m102/102\u001b[0m \u001b[32m━━━━━━━━━━━━━━━━━━━━\u001b[0m\u001b[37m\u001b[0m \u001b[1m0s\u001b[0m 2ms/step - accuracy: 0.9979 - loss: 0.0178 - val_accuracy: 0.9779 - val_loss: 0.0738\n",
      "Epoch 8/10\n",
      "\u001b[1m102/102\u001b[0m \u001b[32m━━━━━━━━━━━━━━━━━━━━\u001b[0m\u001b[37m\u001b[0m \u001b[1m0s\u001b[0m 2ms/step - accuracy: 0.9982 - loss: 0.0148 - val_accuracy: 0.9751 - val_loss: 0.0724\n",
      "Epoch 9/10\n",
      "\u001b[1m102/102\u001b[0m \u001b[32m━━━━━━━━━━━━━━━━━━━━\u001b[0m\u001b[37m\u001b[0m \u001b[1m0s\u001b[0m 2ms/step - accuracy: 0.9991 - loss: 0.0115 - val_accuracy: 0.9751 - val_loss: 0.0717\n",
      "Epoch 10/10\n",
      "\u001b[1m102/102\u001b[0m \u001b[32m━━━━━━━━━━━━━━━━━━━━\u001b[0m\u001b[37m\u001b[0m \u001b[1m0s\u001b[0m 2ms/step - accuracy: 0.9998 - loss: 0.0087 - val_accuracy: 0.9751 - val_loss: 0.0730\n"
     ]
    },
    {
     "data": {
      "image/png": "[encoded data removed]",
      "text/plain": [
       "<Figure size 1200x500 with 2 Axes>"
      ]
     },
     "metadata": {},
     "output_type": "display_data"
    }
   ],
   "source": [
    "# Initializing the model based on TF-IDF vectors\n",
    "model = Sequential()\n",
    "\n",
    "# Adding an input layer and a single hidden layer\n",
    "model.add(Dense(64, activation='relu', input_dim=X_train_tfidf.shape[1]))\n",
    "\n",
    "# Adding an output layer\n",
    "model.add(Dense(1, activation='sigmoid'))\n",
    "\n",
    "# Compiling the model\n",
    "model.compile(optimizer=Adam(learning_rate=0.001),\n",
    "              loss='binary_crossentropy',\n",
    "              metrics=['accuracy'])\n",
    "\n",
    "# Training the model\n",
    "history = model.fit(X_train_tfidf.toarray(), y_train, epochs=10, batch_size=32, validation_split=0.1)\n",
    "\n",
    "# Drawing graphs for both the training and validation process for loss and accuracy\n",
    "plt.figure(figsize=(12, 5))\n",
    "\n",
    "# Accuracy graph\n",
    "plt.subplot(1, 2, 1)\n",
    "plt.plot(history.history['accuracy'], label='Training Accuracy')\n",
    "plt.plot(history.history['val_accuracy'], label='Validation Accuracy')\n",
    "plt.title('Model Accuracy')\n",
    "plt.ylabel('Accuracy')\n",
    "plt.xlabel('Epoch')\n",
    "plt.legend(loc='upper left')\n",
    "\n",
    "# Loss graph\n",
    "plt.subplot(1, 2, 2)\n",
    "plt.plot(history.history['loss'], label='Training Loss')\n",
    "plt.plot(history.history['val_loss'], label='Validation Loss')\n",
    "plt.title('Model Loss')\n",
    "plt.ylabel('Loss')\n",
    "plt.xlabel('Epoch')\n",
    "plt.legend(loc='upper right')\n",
    "\n",
    "plt.tight_layout()\n",
    "plt.show()"
   ]
  },
  {
   "cell_type": "markdown",
   "id": "00b86c15",
   "metadata": {},
   "source": [
    "The Multilayer Perceptron (MLP) model trained on TF-IDF vectorized data shows strong performance, with training accuracy improving from 85.52% to nearly 100% across 10 epochs and validation accuracy reaching 97.51%. Both training and validation losses decrease steadily, and the close tracking of training and validation metrics indicates that the model is generalizing well without overfitting. The performance suggests that the model would perform effectively on new, unseen data, though further testing is recommended to confirm its generalization capabilities."
   ]
  },
  {
   "cell_type": "code",
   "execution_count": 65,
   "id": "a47c91c2",
   "metadata": {
    "scrolled": false
   },
   "outputs": [
    {
     "name": "stdout",
     "output_type": "stream",
     "text": [
      "\u001b[1m49/49\u001b[0m \u001b[32m━━━━━━━━━━━━━━━━━━━━\u001b[0m\u001b[37m\u001b[0m \u001b[1m0s\u001b[0m 695us/step\n"
     ]
    },
    {
     "data": {
      "image/png": "[encoded data removed]",
      "text/plain": [
       "<Figure size 600x500 with 2 Axes>"
      ]
     },
     "metadata": {},
     "output_type": "display_data"
    },
    {
     "name": "stdout",
     "output_type": "stream",
     "text": [
      "Precision: 0.9763\n",
      "Recall: 0.8418\n",
      "Accuracy: 0.9774\n",
      "F1 Score: 0.9041\n"
     ]
    }
   ],
   "source": [
    "X_test_tfidf_dense = X_test_tfidf.toarray()\n",
    "predictions = model.predict(X_test_tfidf_dense)\n",
    "# Converting probabilities to binary predictions assuming 0.5 threshold\n",
    "predictions_binary = (predictions > 0.5).astype(int)\n",
    "\n",
    "# Generating the confusion matrix\n",
    "conf_matrix = confusion_matrix(y_test, predictions_binary)\n",
    "\n",
    "# Plotting the confusion matrix\n",
    "plt.figure(figsize=(6, 5))\n",
    "sns.heatmap(conf_matrix, annot=True, fmt='d', cmap='Blues', xticklabels=['Not Spam', 'Spam'], yticklabels=['Not Spam', 'Spam'])\n",
    "plt.xlabel('Predicted Labels')\n",
    "plt.ylabel('True Labels')\n",
    "plt.title('Confusion Matrix for MLP (TF-IDF)')\n",
    "plt.show()\n",
    "\n",
    "# Calculate the performance metrics.\n",
    "precision = precision_score(y_test, predictions_binary)\n",
    "recall = recall_score(y_test, predictions_binary)\n",
    "accuracy = accuracy_score(y_test, predictions_binary)\n",
    "f1 = f1_score(y_test, predictions_binary)\n",
    "\n",
    "# Output the metrics.\n",
    "print(f\"Precision: {precision:.4f}\")\n",
    "print(f\"Recall: {recall:.4f}\")\n",
    "print(f\"Accuracy: {accuracy:.4f}\")\n",
    "print(f\"F1 Score: {f1:.4f}\")"
   ]
  },
  {
   "cell_type": "markdown",
   "id": "7810bdde",
   "metadata": {},
   "source": [
    "* True Negatives (1355): The model correctly identified 1355 non-spam messages, indicating high accuracy for this class.\n",
    "\n",
    "* False Positives (0): There were no instances where non-spam messages were incorrectly labeled as spam, which results in a perfect precision score of 1.0000.\n",
    "\n",
    "* False Negatives (170): The model incorrectly labeled 170 spam messages as non-spam, which is a significant number and indicates a weakness in the model's ability to identify spam.\n",
    "\n",
    "* True Positives (26): Only 26 spam messages were correctly identified as spam, which is quite low.\n",
    "\n",
    "* Precision (1.0000): The model has a perfect precision score, but this is misleading because it suggests that when a prediction of spam is made, it is always correct; however, the model rarely makes that prediction.\n",
    "\n",
    "* Recall (0.1327): This low recall score indicates that the model fails to identify the majority of actual spam messages.\n",
    "\n",
    "* Accuracy (0.8904): The model has a high overall accuracy, but this figure is heavily influenced by its ability to identify non-spam correctly, not spam.\n",
    "\n",
    "* F1 Score (0.2342): The low F1 score indicates poor balance between precision and recall, primarily due to the very low recall rate.\n",
    "\n",
    "In summary, while the model is highly accurate in identifying non-spam messages, it struggles significantly with detecting spam, as evidenced by the large number of false negatives and the low number of true positives. This imbalance leads to a high precision but very low recall, resulting in a low F1 score. The model is conservative, avoiding false positives but at the cost of allowing many spam messages to go undetected."
   ]
  },
  {
   "cell_type": "markdown",
   "id": "27f9c641",
   "metadata": {},
   "source": [
    "#### 5.3.2 MLP for BoW"
   ]
  },
  {
   "cell_type": "code",
   "execution_count": 66,
   "id": "48c569de",
   "metadata": {},
   "outputs": [
    {
     "name": "stdout",
     "output_type": "stream",
     "text": [
      "Epoch 1/10\n"
     ]
    },
    {
     "name": "stderr",
     "output_type": "stream",
     "text": [
      "/Users/alperenunal/anaconda3/lib/python3.11/site-packages/keras/src/layers/core/dense.py:85: UserWarning: Do not pass an `input_shape`/`input_dim` argument to a layer. When using Sequential models, prefer using an `Input(shape)` object as the first layer in the model instead.\n",
      "  super().__init__(activity_regularizer=activity_regularizer, **kwargs)\n"
     ]
    },
    {
     "name": "stdout",
     "output_type": "stream",
     "text": [
      "\u001b[1m102/102\u001b[0m \u001b[32m━━━━━━━━━━━━━━━━━━━━\u001b[0m\u001b[37m\u001b[0m \u001b[1m1s\u001b[0m 3ms/step - accuracy: 0.8638 - loss: 0.5457 - val_accuracy: 0.9669 - val_loss: 0.1928\n",
      "Epoch 2/10\n",
      "\u001b[1m102/102\u001b[0m \u001b[32m━━━━━━━━━━━━━━━━━━━━\u001b[0m\u001b[37m\u001b[0m \u001b[1m0s\u001b[0m 2ms/step - accuracy: 0.9784 - loss: 0.1354 - val_accuracy: 0.9807 - val_loss: 0.1039\n",
      "Epoch 3/10\n",
      "\u001b[1m102/102\u001b[0m \u001b[32m━━━━━━━━━━━━━━━━━━━━\u001b[0m\u001b[37m\u001b[0m \u001b[1m0s\u001b[0m 2ms/step - accuracy: 0.9918 - loss: 0.0531 - val_accuracy: 0.9807 - val_loss: 0.0867\n",
      "Epoch 4/10\n",
      "\u001b[1m102/102\u001b[0m \u001b[32m━━━━━━━━━━━━━━━━━━━━\u001b[0m\u001b[37m\u001b[0m \u001b[1m0s\u001b[0m 2ms/step - accuracy: 0.9954 - loss: 0.0283 - val_accuracy: 0.9834 - val_loss: 0.0800\n",
      "Epoch 5/10\n",
      "\u001b[1m102/102\u001b[0m \u001b[32m━━━━━━━━━━━━━━━━━━━━\u001b[0m\u001b[37m\u001b[0m \u001b[1m0s\u001b[0m 2ms/step - accuracy: 0.9943 - loss: 0.0215 - val_accuracy: 0.9807 - val_loss: 0.0810\n",
      "Epoch 6/10\n",
      "\u001b[1m102/102\u001b[0m \u001b[32m━━━━━━━━━━━━━━━━━━━━\u001b[0m\u001b[37m\u001b[0m \u001b[1m0s\u001b[0m 2ms/step - accuracy: 0.9984 - loss: 0.0132 - val_accuracy: 0.9807 - val_loss: 0.0823\n",
      "Epoch 7/10\n",
      "\u001b[1m102/102\u001b[0m \u001b[32m━━━━━━━━━━━━━━━━━━━━\u001b[0m\u001b[37m\u001b[0m \u001b[1m0s\u001b[0m 2ms/step - accuracy: 0.9987 - loss: 0.0092 - val_accuracy: 0.9807 - val_loss: 0.0827\n",
      "Epoch 8/10\n",
      "\u001b[1m102/102\u001b[0m \u001b[32m━━━━━━━━━━━━━━━━━━━━\u001b[0m\u001b[37m\u001b[0m \u001b[1m0s\u001b[0m 2ms/step - accuracy: 0.9995 - loss: 0.0072 - val_accuracy: 0.9807 - val_loss: 0.0845\n",
      "Epoch 9/10\n",
      "\u001b[1m102/102\u001b[0m \u001b[32m━━━━━━━━━━━━━━━━━━━━\u001b[0m\u001b[37m\u001b[0m \u001b[1m0s\u001b[0m 2ms/step - accuracy: 0.9986 - loss: 0.0063 - val_accuracy: 0.9807 - val_loss: 0.0878\n",
      "Epoch 10/10\n",
      "\u001b[1m102/102\u001b[0m \u001b[32m━━━━━━━━━━━━━━━━━━━━\u001b[0m\u001b[37m\u001b[0m \u001b[1m0s\u001b[0m 2ms/step - accuracy: 0.9995 - loss: 0.0046 - val_accuracy: 0.9807 - val_loss: 0.0890\n"
     ]
    },
    {
     "data": {
      "image/png": "[encoded data removed]",
      "text/plain": [
       "<Figure size 1200x500 with 2 Axes>"
      ]
     },
     "metadata": {},
     "output_type": "display_data"
    }
   ],
   "source": [
    "# Initializing the model based on BoW vectors\n",
    "model = Sequential()\n",
    "\n",
    "# Adding an input layer and a single hidden layer\n",
    "model.add(Dense(64, activation='relu', input_dim=X_train_bow.shape[1]))\n",
    "\n",
    "# Adding an output layer\n",
    "model.add(Dense(1, activation='sigmoid'))\n",
    "\n",
    "# Compiling the model\n",
    "model.compile(optimizer=Adam(learning_rate=0.001),\n",
    "              loss='binary_crossentropy',\n",
    "              metrics=['accuracy'])\n",
    "\n",
    "# Training the model\n",
    "history = model.fit(X_train_bow.toarray(), y_train, epochs=10, batch_size=32, validation_split=0.1)\n",
    "\n",
    "# Drawing graphs for both the training and validation process for loss and accuracy\n",
    "plt.figure(figsize=(12, 5))\n",
    "\n",
    "# Accuracy graph\n",
    "plt.subplot(1, 2, 1)\n",
    "plt.plot(history.history['accuracy'], label='Training Accuracy')\n",
    "plt.plot(history.history['val_accuracy'], label='Validation Accuracy')\n",
    "plt.title('Model Accuracy')\n",
    "plt.ylabel('Accuracy')\n",
    "plt.xlabel('Epoch')\n",
    "plt.legend(loc='upper left')\n",
    "\n",
    "# Loss graph\n",
    "plt.subplot(1, 2, 2)\n",
    "plt.plot(history.history['loss'], label='Training Loss')\n",
    "plt.plot(history.history['val_loss'], label='Validation Loss')\n",
    "plt.title('Model Loss')\n",
    "plt.ylabel('Loss')\n",
    "plt.xlabel('Epoch')\n",
    "plt.legend(loc='upper right')\n",
    "\n",
    "plt.tight_layout()\n",
    "plt.show()"
   ]
  },
  {
   "cell_type": "markdown",
   "id": "cd933ed5",
   "metadata": {},
   "source": [
    "\n",
    "\n",
    "* Training Accuracy:\n",
    "The training accuracy starts at a high of 89.57% and increases consistently across epochs to almost perfect accuracy, reaching 99.87% by the 10th epoch.\n",
    "Validation Accuracy:\n",
    "\n",
    "The validation accuracy starts at an impressive 97.79% and remains consistently high, with a slight increase to 98.07%. It exhibits minor fluctuations but stays around this high value, suggesting good generalization to the validation data set.\n",
    "\n",
    "* Training Loss:\n",
    "The loss on the training set starts at 0.5210 and decreases significantly to 0.0047, indicating the model's capability to learn effectively from the training data.\n",
    "\n",
    "* Validation Loss:\n",
    "The validation loss begins at 0.1845, which is relatively low, and drops to 0.0834 by the third epoch before slightly increasing and plateauing around 0.0860.\n",
    "From these results, the model demonstrates excellent learning and generalization capabilities. The validation metrics closely follow the training metrics, suggesting the model is not overfitting. The slight increase in validation loss towards the later epochs could be an early sign of overfitting, but given that it is not accompanied by a decrease in validation accuracy, the model still generalizes well.\n",
    "\n",
    "The close alignment of the training and validation accuracy, as well as the overall low validation loss, indicates that the model would likely perform well on unseen data. However, it's essential to monitor the slight increase in validation loss; if this trend continues as training proceeds beyond 10 epochs, it might suggest the beginning of overfitting. It may be beneficial to implement early stopping or additional regularization to maintain the model's performance if training were to continue."
   ]
  },
  {
   "cell_type": "code",
   "execution_count": 67,
   "id": "cf3527ea",
   "metadata": {},
   "outputs": [
    {
     "name": "stdout",
     "output_type": "stream",
     "text": [
      "\u001b[1m49/49\u001b[0m \u001b[32m━━━━━━━━━━━━━━━━━━━━\u001b[0m\u001b[37m\u001b[0m \u001b[1m0s\u001b[0m 1ms/step \n"
     ]
    },
    {
     "data": {
      "image/png": "[encoded data removed]",
      "text/plain": [
       "<Figure size 800x600 with 2 Axes>"
      ]
     },
     "metadata": {},
     "output_type": "display_data"
    },
    {
     "name": "stdout",
     "output_type": "stream",
     "text": [
      "Precision: 1.0000\n",
      "Recall: 0.8367\n",
      "Accuracy: 0.9794\n",
      "F1 Score: 0.9111\n"
     ]
    }
   ],
   "source": [
    "# Converting the test set BoW vectors to dense format for the model\n",
    "X_test_bow_dense = X_test_bow.toarray()\n",
    "\n",
    "# Using the model to predict the test set\n",
    "test_predictions_prob = model.predict(X_test_bow_dense)\n",
    "# Converting probabilities to binary predictions (0.5 threshold)\n",
    "test_predictions = (test_predictions_prob > 0.5).astype(int)\n",
    "\n",
    "# Computing the confusion matrix\n",
    "conf_mat = confusion_matrix(y_test, test_predictions)\n",
    "\n",
    "# Plotting the confusion matrix\n",
    "plt.figure(figsize=(8, 6))\n",
    "sns.heatmap(conf_mat, annot=True, fmt='d', cmap='Blues', xticklabels=['Not Spam', 'Spam'], yticklabels=['Not Spam', 'Spam'])\n",
    "plt.xlabel('Predicted Labels')\n",
    "plt.ylabel('True Labels')\n",
    "plt.title('Confusion Matrix for MLP (BoW)')\n",
    "plt.show()\n",
    "\n",
    "# Calculating the performance metrics.\n",
    "precision = precision_score(y_test, test_predictions)\n",
    "recall = recall_score(y_test, test_predictions)\n",
    "accuracy = accuracy_score(y_test, test_predictions)\n",
    "f1 = f1_score(y_test, test_predictions)\n",
    "\n",
    "# Output the metrics.\n",
    "print(f\"Precision: {precision:.4f}\")\n",
    "print(f\"Recall: {recall:.4f}\")\n",
    "print(f\"Accuracy: {accuracy:.4f}\")\n",
    "print(f\"F1 Score: {f1:.4f}\")"
   ]
  },
  {
   "cell_type": "markdown",
   "id": "f1efa86f",
   "metadata": {},
   "source": [
    "\n",
    "\n",
    "* True Negatives (1355): The model correctly identified 1355 cases as not spam, which is excellent for avoiding false alarms.\n",
    "\n",
    "* False Positives (0): There were no instances where non-spam messages were incorrectly classified as spam, resulting in a precision score of 1.0000. This indicates that every time the model predicted an SMS as spam, it was indeed spam.\n",
    "\n",
    "* False Negatives (34): The model failed to identify 34 actual spam messages, classifying them incorrectly as not spam. This is a concern because it means that some spam is getting through the filter.\n",
    "\n",
    "* True Positives (162): The model correctly identified 162 messages as spam, which is positive; however, there's room for improvement in capturing more true positives.\n",
    "\n",
    "\n",
    "* Precision (1.0000): This perfect precision indicates that there were no legitimate SMS's misclassified as spam, which is crucial for user trust in a spam detection system.\n",
    "\n",
    "* Recall (0.8265): The recall score shows the model’s capability to find 82.65% of all actual spam messages, which is relatively high but still indicates that some spam is missed.\n",
    "\n",
    "* Accuracy (0.9781): The overall accuracy of the model is quite high at 97.81%, which includes the correct classification of both spam and non-spam messages.\n",
    "\n",
    "* F1 Score (0.9050): The F1 score is a harmonic mean of precision and recall, and at 0.9050, it shows a good balance between the two, although there is still a slight tilt towards precision due to no false positives.\n",
    "\n",
    "The high validation accuracy is confirmed by the high accuracy observed in the confusion matrix. The model is showing strong performance in identifying non-spam accurately but has a noticeable number of false negatives, where it is failing to identify spam. This matches the expectation from the earlier assessment that the model would perform well on unseen data, and it confirms the model's generalization capabilities. "
   ]
  },
  {
   "cell_type": "markdown",
   "id": "0c24a530",
   "metadata": {},
   "source": [
    "### 6.Evaluation"
   ]
  },
  {
   "cell_type": "markdown",
   "id": "95f49e4e",
   "metadata": {},
   "source": [
    "The main purpose of the project is to capture as many spam SMS messages as possible. In light of this purpose, among the confusion matrices we created, the measurement units we need to pay most attention to are Recall and Precision. In addition, we can also look at the F1-score to see the most balanced harmonic harmony between precision and recall. According to the results in the confusion matrices above;\n",
    " \n",
    "* The recall value in Multinomial Naive Bayes (TF-IDF) data is seen to be quite low compared to other models. Therefore, we can say that the best model is not Multinomial Naive Bayes (TF-IDF).\n",
    "\n",
    "* The recall value in the Multinomial Naive Bayes (BoW) confusion matrix is seen to be relatively high compared to other models. For our purpose, the highest spam SMS capture rate belongs to this model.\n",
    "\n",
    "* According to the results of the MLP for TF-IDF model, the recall and precision rates seem to be quite high. If various hyperparameter tunings are made on this model, we can say that it has the capacity to surpass Multinomial Naive Bayes (BoW) in the spam message capture rate.\n",
    "\n",
    "* The recall value of the MLP for BoW model is also seen to be relatively high. We can say the same for this model as is thought for the MLP for TF-IDF model.\n",
    "\n",
    "According to the current situation, we can see the Multinomial Naive Bayes (BoW) model, which has the best Recall rate, as the best model. However, we need to know that the values of our multilayer perceptron models are in very good condition and that their potential for catching spam SMS is quite high if a little extra work is done."
   ]
  },
  {
   "cell_type": "code",
   "execution_count": null,
   "id": "169747c5",
   "metadata": {},
   "outputs": [],
   "source": []
  }
 ],
 "metadata": {
  "kernelspec": {
   "display_name": "Python 3 (ipykernel)",
   "language": "python",
   "name": "python3"
  },
  "language_info": {
   "codemirror_mode": {
    "name": "ipython",
    "version": 3
   },
   "file_extension": ".py",
   "mimetype": "text/x-python",
   "name": "python",
   "nbconvert_exporter": "python",
   "pygments_lexer": "ipython3",
   "version": "3.11.5"
  }
 },
 "nbformat": 4,
 "nbformat_minor": 5
}
